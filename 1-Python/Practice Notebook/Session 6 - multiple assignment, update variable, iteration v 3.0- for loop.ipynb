{
 "cells": [
  {
   "cell_type": "markdown",
   "id": "da4b26dd",
   "metadata": {},
   "source": [
    "# The for loop"
   ]
  },
  {
   "cell_type": "raw",
   "id": "e8911e63",
   "metadata": {},
   "source": [
    "for iterator in sequence:\n",
    "    statements\n",
    "\n",
    "A for loop in Python is used for iterating over a sequence, which can be a list, a tuple, a dictionary, a set, or a string"
   ]
  },
  {
   "cell_type": "code",
   "execution_count": 69,
   "id": "1f3a6ab6",
   "metadata": {},
   "outputs": [
    {
     "data": {
      "text/plain": [
       "list"
      ]
     },
     "execution_count": 69,
     "metadata": {},
     "output_type": "execute_result"
    }
   ],
   "source": [
    "students = [\"ajay\", \"ranjan\", \"chaitanya\"]\n",
    "type(students)"
   ]
  },
  {
   "cell_type": "code",
   "execution_count": 68,
   "id": "6c17e5b3",
   "metadata": {},
   "outputs": [
    {
     "name": "stdout",
     "output_type": "stream",
     "text": [
      "ajay\n",
      "ranjan\n",
      "chaitanya\n"
     ]
    }
   ],
   "source": [
    "# parse a list\n",
    "students = [\"ajay\", \"ranjan\", \"chaitanya\"]\n",
    "for s in students:\n",
    "    print(s)"
   ]
  },
  {
   "cell_type": "code",
   "execution_count": 50,
   "id": "e80bf2e3",
   "metadata": {},
   "outputs": [],
   "source": [
    "# Exercise:\n",
    "# following people are celebrating their birthday today. generate personalized greetings\n",
    "# Anand, Bhaskar, Richie, Sandeep, Manoj"
   ]
  },
  {
   "cell_type": "code",
   "execution_count": null,
   "id": "bff17f15",
   "metadata": {},
   "outputs": [],
   "source": []
  },
  {
   "cell_type": "code",
   "execution_count": 72,
   "id": "8cce5de9",
   "metadata": {},
   "outputs": [
    {
     "name": "stdout",
     "output_type": "stream",
     "text": [
      "h\n",
      "e\n",
      "l\n",
      "l\n",
      "o\n",
      " \n",
      "w\n",
      "o\n",
      "r\n",
      "l\n",
      "d\n"
     ]
    }
   ],
   "source": [
    "# parse a string\n",
    "greeting = \"hello world\"\n",
    "for i in greeting:\n",
    "    print(i)"
   ]
  },
  {
   "cell_type": "code",
   "execution_count": null,
   "id": "c92737fc",
   "metadata": {},
   "outputs": [],
   "source": [
    "# Exercise: take a string and reverse it using for loop"
   ]
  },
  {
   "cell_type": "code",
   "execution_count": null,
   "id": "0fe3cd53",
   "metadata": {},
   "outputs": [],
   "source": []
  },
  {
   "cell_type": "code",
   "execution_count": 51,
   "id": "5dfbb726",
   "metadata": {},
   "outputs": [],
   "source": [
    "# Exercise\n",
    "# print multiple tables of a given number from 1 to 16\n",
    "# example, if number is 2 then 2 x 1 = 2, 2 x 2 = 4 .... 2 x 16 = 32"
   ]
  },
  {
   "cell_type": "code",
   "execution_count": null,
   "id": "e4919660",
   "metadata": {},
   "outputs": [],
   "source": []
  },
  {
   "cell_type": "code",
   "execution_count": 53,
   "id": "e2852447",
   "metadata": {},
   "outputs": [],
   "source": [
    "# Exercise\n",
    "# Write a Python program to find those numbers which are divisible by 7 and multiple of 5, \n",
    "# between 1500 and 2700 (both included)"
   ]
  },
  {
   "cell_type": "code",
   "execution_count": null,
   "id": "7a8d2a59",
   "metadata": {},
   "outputs": [],
   "source": [
    "loop\n",
    "    check for divisibility by 5\n",
    "        check for divisibility by 7\n",
    "            print number\n",
    "            "
   ]
  },
  {
   "cell_type": "code",
   "execution_count": 72,
   "id": "54272fc5",
   "metadata": {},
   "outputs": [],
   "source": [
    "# Exercise\n",
    "# Generate the first 10 numbers of the Fibonacci series\n",
    "# Every next number is found by adding up the two numbers before it.\n",
    "# Expected Output : 1 1 2 3 5 8 13 21 34 55\n",
    "\n",
    "# hint: start with initial values of 0 and 1 to produce the first number. then update them to produce subsequent numbers."
   ]
  },
  {
   "cell_type": "code",
   "execution_count": 1,
   "id": "5ae895bf",
   "metadata": {},
   "outputs": [],
   "source": [
    "# rewrite this using for loop"
   ]
  },
  {
   "cell_type": "code",
   "execution_count": 46,
   "id": "ee359be4",
   "metadata": {},
   "outputs": [
    {
     "name": "stdout",
     "output_type": "stream",
     "text": [
      "1\n",
      "1\n",
      "2\n",
      "3\n",
      "5\n",
      "8\n",
      "13\n",
      "21\n",
      "34\n",
      "55\n",
      "89\n"
     ]
    }
   ],
   "source": [
    "first = 0\n",
    "second = 1\n",
    "while (second < 100):\n",
    "    next = first + second\n",
    "    print (second)\n",
    "    first = second\n",
    "    second = next "
   ]
  },
  {
   "cell_type": "code",
   "execution_count": null,
   "id": "6351f95c",
   "metadata": {},
   "outputs": [],
   "source": [
    "# Exercise\n",
    "# sum of numbers from 1,2,3,...n is given by the formula n*(n+1)/2\n",
    "# verify this\n",
    "\n",
    "# take n as 20, calculate using formula and verify using while loop"
   ]
  },
  {
   "cell_type": "code",
   "execution_count": 216,
   "id": "39138b5d",
   "metadata": {},
   "outputs": [
    {
     "name": "stdout",
     "output_type": "stream",
     "text": [
      "55\n",
      "55.0\n"
     ]
    }
   ],
   "source": []
  },
  {
   "cell_type": "code",
   "execution_count": 26,
   "id": "a1719b99",
   "metadata": {},
   "outputs": [],
   "source": [
    "# Exercise:\n",
    "# using a for loop, count the number of letters in the word - Programming"
   ]
  },
  {
   "cell_type": "code",
   "execution_count": null,
   "id": "3c81c185",
   "metadata": {},
   "outputs": [],
   "source": []
  },
  {
   "cell_type": "code",
   "execution_count": 51,
   "id": "00e51a53",
   "metadata": {},
   "outputs": [],
   "source": [
    "# the range function can be invoked to create a sequence of n numbers using range(n). starts with 0.\n",
    "# it can also be invoked using range(start, stop, step) e.g. range(2,10,2)"
   ]
  },
  {
   "cell_type": "code",
   "execution_count": 80,
   "id": "b0fad0c8",
   "metadata": {},
   "outputs": [
    {
     "name": "stdout",
     "output_type": "stream",
     "text": [
      "0\n",
      "1\n",
      "2\n",
      "3\n",
      "4\n"
     ]
    }
   ],
   "source": [
    "# series of numbers\n",
    "for i in range(5):\n",
    "    print (i)"
   ]
  },
  {
   "cell_type": "code",
   "execution_count": 77,
   "id": "1301a7d9",
   "metadata": {},
   "outputs": [
    {
     "name": "stdout",
     "output_type": "stream",
     "text": [
      "2\n",
      "3\n",
      "4\n",
      "5\n",
      "6\n",
      "7\n",
      "8\n",
      "9\n"
     ]
    }
   ],
   "source": [
    "for i in range(2,10,1):\n",
    "    print(i)"
   ]
  },
  {
   "cell_type": "code",
   "execution_count": 49,
   "id": "a4f4f9be",
   "metadata": {},
   "outputs": [],
   "source": [
    "# Exercise\n",
    "# use for loop to simulate a rocket launch count down\n",
    "# one simple way is to use a list of numbers for the countdown\n",
    "# another way is to use range(10,0,-1) to create the numbers"
   ]
  },
  {
   "cell_type": "code",
   "execution_count": null,
   "id": "b5a01645",
   "metadata": {},
   "outputs": [],
   "source": []
  },
  {
   "cell_type": "code",
   "execution_count": 84,
   "id": "43a8256a",
   "metadata": {},
   "outputs": [
    {
     "name": "stdout",
     "output_type": "stream",
     "text": [
      "hmm.. This Singh ? let us go ahead\n",
      "hmm.. That Khan ? let us go ahead\n",
      "Rajnikant! now we have arrived\n",
      "just after the break statement, we land here\n"
     ]
    }
   ],
   "source": [
    "# for - break\n",
    "# break stops the loop and takes control to the first line outside the for indentation\n",
    "\n",
    "favorite = \"Rajnikant\"\n",
    "\n",
    "heroes = [\"This Singh\", \"That Khan\", \"Rajnikant\", \"More kapoor\"]\n",
    "\n",
    "for h in heroes:\n",
    "    if (h == \"Rajnikant\"):\n",
    "        print(h+ \"! now we have arrived\")\n",
    "        break\n",
    "    print(\"hmm.. \"+ h, \"? let us go ahead\")\n",
    "\n",
    "print(\"just after the break statement, we land here\")"
   ]
  },
  {
   "cell_type": "code",
   "execution_count": 85,
   "id": "34271c1f",
   "metadata": {},
   "outputs": [
    {
     "name": "stdout",
     "output_type": "stream",
     "text": [
      "3\n",
      "4\n"
     ]
    }
   ],
   "source": [
    "# continue stops current iteration and initiates the next iteration\n",
    "for i in range(5):\n",
    "    if (i < 3):\n",
    "        continue\n",
    "    else:\n",
    "        print(i)"
   ]
  },
  {
   "cell_type": "code",
   "execution_count": 25,
   "id": "f50a3cd5",
   "metadata": {},
   "outputs": [],
   "source": [
    "# Exercise:\n",
    "# create a list of months in a calendar year\n",
    "# select a specific month, say your favorite month\n",
    "# using for loop, step through the months. when you reach the selected month, print a message\n",
    "# for all other months, do nothing. hint: use continue"
   ]
  },
  {
   "cell_type": "code",
   "execution_count": 92,
   "id": "f8beb16d",
   "metadata": {},
   "outputs": [
    {
     "name": "stdout",
     "output_type": "stream",
     "text": [
      "f  is my fav month\n"
     ]
    }
   ],
   "source": [
    "months = ['j','f','m']\n",
    "\n",
    "for i in months:\n",
    "    if (i == 'f'):\n",
    "        print(i, \" is my fav month\")"
   ]
  },
  {
   "cell_type": "code",
   "execution_count": null,
   "id": "e82cb951",
   "metadata": {},
   "outputs": [],
   "source": [
    "# few tricks before the next example"
   ]
  },
  {
   "cell_type": "code",
   "execution_count": 32,
   "id": "f2250ad8",
   "metadata": {},
   "outputs": [
    {
     "data": {
      "text/plain": [
       "''"
      ]
     },
     "execution_count": 32,
     "metadata": {},
     "output_type": "execute_result"
    }
   ],
   "source": [
    "# this is an empty string variable\n",
    "rev = \"\"\n",
    "rev"
   ]
  },
  {
   "cell_type": "code",
   "execution_count": 35,
   "id": "d6d2e82b",
   "metadata": {},
   "outputs": [
    {
     "data": {
      "text/plain": [
       "str"
      ]
     },
     "execution_count": 35,
     "metadata": {},
     "output_type": "execute_result"
    }
   ],
   "source": [
    "# convert a number to string using str command\n",
    "num = 12\n",
    "num_str = str(num)\n",
    "type(num_str)"
   ]
  },
  {
   "cell_type": "code",
   "execution_count": 97,
   "id": "0fbad998",
   "metadata": {},
   "outputs": [
    {
     "data": {
      "text/plain": [
       "'goodmorning'"
      ]
     },
     "execution_count": 97,
     "metadata": {},
     "output_type": "execute_result"
    }
   ],
   "source": [
    "# concatenate string variables\n",
    "\n",
    "\"good\"  + \"morning\""
   ]
  },
  {
   "cell_type": "code",
   "execution_count": 95,
   "id": "441208b3",
   "metadata": {},
   "outputs": [
    {
     "name": "stdout",
     "output_type": "stream",
     "text": [
      "1\n",
      "9\n",
      "4\n",
      "7\n",
      "7491\n"
     ]
    },
    {
     "data": {
      "text/plain": [
       "7491"
      ]
     },
     "execution_count": 95,
     "metadata": {},
     "output_type": "execute_result"
    }
   ],
   "source": [
    "# Reverse the number 1947 using for loop\n",
    "# hint you can convert a number to string using the str command. Example str(1947).\n",
    "\n",
    "# the number\n",
    "num = 1947\n",
    "# convert the number to string\n",
    "num_str = str(1947)\n",
    "\n",
    "# for loop steps through each letter\n",
    "for i in num_str:\n",
    "    print(i)\n",
    "\n",
    "# create a string variable\n",
    "rev = \"\"\n",
    "for i in num_str:\n",
    "    rev = i + rev\n",
    "\n",
    "print(rev)\n",
    "\n",
    "# convert to int type\n",
    "int(rev)"
   ]
  },
  {
   "cell_type": "code",
   "execution_count": null,
   "id": "5f6b2443",
   "metadata": {},
   "outputs": [],
   "source": []
  },
  {
   "cell_type": "code",
   "execution_count": 41,
   "id": "b5823706",
   "metadata": {},
   "outputs": [],
   "source": [
    "# Exercise\n",
    "# given a number, find the max digit. use for loop\n",
    "# number is 1947"
   ]
  },
  {
   "cell_type": "code",
   "execution_count": null,
   "id": "b3de80fb",
   "metadata": {},
   "outputs": [],
   "source": []
  },
  {
   "cell_type": "code",
   "execution_count": 53,
   "id": "f1615943",
   "metadata": {},
   "outputs": [],
   "source": [
    "# Exercise\n",
    "# in many cases, the same logic implemented with a while loop can be accomplished using a for loop\n",
    "# try calculating the factorial of 7 using a for loop"
   ]
  },
  {
   "cell_type": "code",
   "execution_count": null,
   "id": "522a50da",
   "metadata": {},
   "outputs": [],
   "source": []
  },
  {
   "cell_type": "code",
   "execution_count": 54,
   "id": "c3544f48",
   "metadata": {},
   "outputs": [],
   "source": [
    "# Exercise\n",
    "# the following is a list of marks of students. they pass if it is 40 or more. parse through the \n",
    "# list and display a pass or fail result\n",
    "marks = [100, 75, 65, 36, 56, 83, 92, 47]"
   ]
  },
  {
   "cell_type": "code",
   "execution_count": null,
   "id": "d4f76cbf",
   "metadata": {},
   "outputs": [],
   "source": []
  },
  {
   "cell_type": "code",
   "execution_count": 90,
   "id": "2a2de720",
   "metadata": {},
   "outputs": [
    {
     "name": "stdout",
     "output_type": "stream",
     "text": [
      "Happy Birthday,  ajay\n",
      "Happy Birthday,  ranjan\n",
      "Happy Birthday,  chaitanya\n",
      "confirmation of completing all elements in the list\n"
     ]
    }
   ],
   "source": [
    "# For else\n",
    "# once the list is exhausted the control flows to else segment if included\n",
    "\n",
    "# personalized happy birthday greeting\n",
    "students = [\"ajay\", \"ranjan\", \"chaitanya\"]\n",
    "for x in students:\n",
    "    print(\"Happy Birthday, \", x)\n",
    "else:\n",
    "    print(\"confirmation of completing all elements in the list\")\n"
   ]
  },
  {
   "cell_type": "code",
   "execution_count": null,
   "id": "2caef004",
   "metadata": {},
   "outputs": [],
   "source": [
    "# Exercise:\n",
    "# loop through 1 to 10. for each number display if it is odd or even"
   ]
  },
  {
   "cell_type": "code",
   "execution_count": null,
   "id": "893d667f",
   "metadata": {},
   "outputs": [],
   "source": []
  },
  {
   "cell_type": "code",
   "execution_count": null,
   "id": "14d87e29",
   "metadata": {},
   "outputs": [],
   "source": [
    "# Exercise:\n",
    "# loop through and display each letter in \"Mera Bharat Mahaan\"\n"
   ]
  },
  {
   "cell_type": "code",
   "execution_count": null,
   "id": "29e37eab",
   "metadata": {},
   "outputs": [],
   "source": []
  },
  {
   "cell_type": "code",
   "execution_count": 67,
   "id": "a8616ed3",
   "metadata": {},
   "outputs": [],
   "source": [
    "# Exercise:\n",
    "# modify the previous exercise to avoid displaying space\n",
    "# hint: compare with \" \" and use continue"
   ]
  },
  {
   "cell_type": "code",
   "execution_count": null,
   "id": "39d6ccef",
   "metadata": {},
   "outputs": [],
   "source": []
  },
  {
   "cell_type": "code",
   "execution_count": 21,
   "id": "5132e8fe",
   "metadata": {},
   "outputs": [
    {
     "name": "stdout",
     "output_type": "stream",
     "text": [
      "2018 Q1\n",
      "2018 Q2\n",
      "2018 Q3\n",
      "2018 Q4\n",
      "2019 Q1\n",
      "2019 Q2\n",
      "2019 Q3\n",
      "2019 Q4\n",
      "2020 Q1\n",
      "2020 Q2\n",
      "2020 Q3\n",
      "2020 Q4\n",
      "2021 Q1\n",
      "2021 Q2\n",
      "2021 Q3\n",
      "2021 Q4\n"
     ]
    }
   ],
   "source": [
    "# nested loop\n",
    "year = [2018, 2019, 2020, 2021]\n",
    "quarter = [\"Q1\",\"Q2\", \"Q3\", \"Q4\"]\n",
    "\n",
    "for yr in year:\n",
    "    for qtr in quarter:\n",
    "        print (yr, qtr)"
   ]
  },
  {
   "cell_type": "code",
   "execution_count": null,
   "id": "96b4e977",
   "metadata": {},
   "outputs": [],
   "source": []
  },
  {
   "cell_type": "code",
   "execution_count": 64,
   "id": "086c3832",
   "metadata": {},
   "outputs": [
    {
     "name": "stdout",
     "output_type": "stream",
     "text": [
      "0\n",
      "1\n",
      "2\n",
      "3\n",
      "4\n",
      "5\n",
      "6\n",
      "7\n",
      "8\n",
      "9\n",
      "10\n",
      "11\n",
      "12\n",
      "13\n",
      "14\n",
      "15\n",
      "16\n",
      "17\n",
      "18\n",
      "19\n",
      "20\n",
      "21\n",
      "22\n",
      "23\n",
      "24\n",
      "25\n",
      "26\n",
      "27\n",
      "28\n",
      "29\n",
      "30\n",
      "31\n",
      "32\n",
      "33\n",
      "34\n",
      "35\n",
      "36\n",
      "37\n",
      "38\n",
      "39\n",
      "40\n",
      "41\n",
      "42\n",
      "43\n",
      "44\n",
      "45\n",
      "46\n",
      "47\n",
      "48\n",
      "49\n",
      "50\n",
      "51\n",
      "52\n",
      "53\n",
      "54\n",
      "55\n",
      "56\n",
      "57\n",
      "58\n",
      "59\n",
      "60\n",
      "61\n",
      "62\n",
      "63\n",
      "64\n",
      "65\n",
      "66\n",
      "67\n",
      "68\n",
      "69\n",
      "70\n",
      "71\n",
      "72\n",
      "73\n",
      "74\n",
      "75\n",
      "76\n",
      "77\n",
      "78\n",
      "79\n",
      "80\n",
      "81\n",
      "82\n",
      "83\n",
      "84\n",
      "85\n",
      "86\n",
      "87\n",
      "88\n",
      "89\n",
      "90\n",
      "91\n",
      "92\n",
      "93\n",
      "94\n",
      "95\n",
      "96\n",
      "97\n",
      "98\n",
      "99\n"
     ]
    }
   ],
   "source": [
    "# create numbers from 0 to 99 using nested for loop\n",
    "\n",
    "for i in range(10):\n",
    "    for j in range(10):\n",
    "        print(10*i + j)"
   ]
  },
  {
   "cell_type": "code",
   "execution_count": null,
   "id": "7d2bbc22",
   "metadata": {},
   "outputs": [],
   "source": []
  },
  {
   "cell_type": "code",
   "execution_count": 100,
   "id": "b92a0a92",
   "metadata": {},
   "outputs": [],
   "source": [
    "# Exercise\n",
    "# imagine a word, for now use \"motivation\" as the word. \n",
    "# ask user to guess the word. the user keys in a letter. you search for that letter in this word using a loop.\n",
    "# if the letter is present, display a success message, you may also mention how many times the letter occurs in this word.\n",
    "\n",
    "# for laters: the popular hangman game is based on similar interactions. of course in a more refined way."
   ]
  },
  {
   "cell_type": "code",
   "execution_count": 99,
   "id": "0d9052ea",
   "metadata": {},
   "outputs": [],
   "source": []
  },
  {
   "cell_type": "code",
   "execution_count": 107,
   "id": "197832d6",
   "metadata": {},
   "outputs": [],
   "source": [
    "# Question:\n",
    "# What is the difference between range(10), range(0, 10), and range(0, 10, 1) in a for loop?\n",
    "# verify your answer using a for loop and print statements"
   ]
  },
  {
   "cell_type": "code",
   "execution_count": null,
   "id": "5142320e",
   "metadata": {},
   "outputs": [],
   "source": []
  },
  {
   "cell_type": "markdown",
   "id": "bdab9270",
   "metadata": {},
   "source": [
    "#Exercise:  \n",
    "\n",
    "Tweets use hashtags. For example, here is a tweet: \n",
    "\n",
    "The #weather in #Bangalore is #awesome today\n",
    "\n",
    "Using the statements you have seen in the course so far, try and extract the hashtags."
   ]
  },
  {
   "cell_type": "code",
   "execution_count": null,
   "id": "f4d39357",
   "metadata": {},
   "outputs": [],
   "source": [
    "The #weather in #Bangalore is #awesome today"
   ]
  },
  {
   "cell_type": "code",
   "execution_count": null,
   "id": "b09e19cd",
   "metadata": {},
   "outputs": [],
   "source": []
  },
  {
   "cell_type": "code",
   "execution_count": null,
   "id": "88b5bb26",
   "metadata": {},
   "outputs": [],
   "source": [
    "# Exercise\n",
    "# A student scored the following marks in her XII 100, 90, 96, 98, 85\n",
    "# set this up as a list and parse using a loop and calculate the total marks"
   ]
  },
  {
   "cell_type": "code",
   "execution_count": null,
   "id": "602e2491",
   "metadata": {},
   "outputs": [],
   "source": [
    "# calculate the average marks"
   ]
  },
  {
   "cell_type": "code",
   "execution_count": null,
   "id": "927397a6",
   "metadata": {},
   "outputs": [],
   "source": [
    "# calculate the standard deviation of marks"
   ]
  },
  {
   "cell_type": "code",
   "execution_count": 117,
   "id": "02dbd21e",
   "metadata": {},
   "outputs": [],
   "source": [
    "# display the least and highest marks"
   ]
  },
  {
   "cell_type": "code",
   "execution_count": null,
   "id": "347921e2",
   "metadata": {},
   "outputs": [],
   "source": []
  },
  {
   "cell_type": "code",
   "execution_count": 118,
   "id": "902fe011",
   "metadata": {},
   "outputs": [],
   "source": [
    "# Exercise\n",
    "# print the frequency of each digit in a given number\n",
    "# for e.g. if the number is 642130722 then, 0 occurs 1 time, 1 occurs 1 time, 2 occurs 3 times, ...\n"
   ]
  },
  {
   "cell_type": "code",
   "execution_count": null,
   "id": "51fa1795",
   "metadata": {},
   "outputs": [],
   "source": []
  },
  {
   "cell_type": "code",
   "execution_count": 119,
   "id": "803d0713",
   "metadata": {},
   "outputs": [],
   "source": [
    "#Calculate the monthly water bill using the following plan\n",
    "#For first 50 units Rs. 0.50/unit\n",
    "#For next 100 units Rs. 0.75/unit\n",
    "#For next 100 units Rs. 1.20/unit\n",
    "#For unit above 250 Rs. 1.50/unit\n",
    "#An additional surcharge of 20% is added to the bill\n",
    "\n",
    "# the customer used 513 units in the month"
   ]
  },
  {
   "cell_type": "code",
   "execution_count": null,
   "id": "30be18b6",
   "metadata": {},
   "outputs": [],
   "source": []
  },
  {
   "cell_type": "code",
   "execution_count": 121,
   "id": "2d3076be",
   "metadata": {},
   "outputs": [],
   "source": [
    "# Exercise\n",
    "# A user requests password reset. Use has to prove their identity using OTP. The user is allowed a fixed number of tries.\n",
    "\n",
    "# hint: while loop, fixed number of loops. within each loop, ask the user for OTP. if matches then break the loop and exit.\n",
    "# if OTP does not match then use 'continue' and ask the user for OTP again."
   ]
  },
  {
   "cell_type": "code",
   "execution_count": null,
   "id": "01d78a99",
   "metadata": {},
   "outputs": [],
   "source": []
  },
  {
   "cell_type": "raw",
   "id": "89391584-75b1-4468-9f48-062f0b04b844",
   "metadata": {},
   "source": [
    "# Exercise\n",
    "A valid password has to have lowercase letters, upper case letters and numbers\n",
    "Given a password, check if it is a valid one using for loop."
   ]
  },
  {
   "cell_type": "code",
   "execution_count": null,
   "id": "534f7e3f-4b7b-4caa-b829-a1dc219968ca",
   "metadata": {},
   "outputs": [],
   "source": []
  },
  {
   "cell_type": "raw",
   "id": "4798686e-3f7a-44b6-8fe1-a83d1ba9584c",
   "metadata": {},
   "source": [
    "# Exercise\n",
    "A list contains book names say 'Abc', 'Xyz', 'Def'\n",
    "Another list contains the status of these books as 'Available', 'Issued', 'Issued'\n",
    "Assume a user wants to know if a book is available and enters a name, check if it is in the list and if it is Available."
   ]
  },
  {
   "cell_type": "code",
   "execution_count": null,
   "id": "bc8ff5cd-b44a-41ad-a120-a9d1ff8ee548",
   "metadata": {},
   "outputs": [],
   "source": []
  },
  {
   "cell_type": "raw",
   "id": "b96613f8-0f92-4926-b121-439a726bcc1f",
   "metadata": {},
   "source": [
    "# Exercise\n",
    "A palindromes are words which are the same when they are spelt in reverse order, examples RADAR, LEVEL, MADAM, MALAYALAM, NUN, OTTO, REFER.\n",
    "Given a word, check if it is a palindrome."
   ]
  },
  {
   "cell_type": "code",
   "execution_count": null,
   "id": "42439766-5b04-4e51-a8d9-0427fca937b7",
   "metadata": {},
   "outputs": [],
   "source": []
  },
  {
   "cell_type": "raw",
   "id": "45ecbd3d-c8b5-4415-aba5-4cfe35dd5464",
   "metadata": {},
   "source": [
    "# Exercise\n",
    "You received marks of a few students as a list. Verify if there are any obvious typos in these by checking if any of these marks are negative or more than 100."
   ]
  },
  {
   "cell_type": "code",
   "execution_count": null,
   "id": "a6f74d0a-91b1-4c30-a94a-9411c06ba50f",
   "metadata": {},
   "outputs": [],
   "source": []
  },
  {
   "cell_type": "raw",
   "id": "06657ea5-85d8-46d6-b791-53f7519192c4",
   "metadata": {},
   "source": [
    "# Exercise\n",
    "In text processing, there are measures of similarity of words. Here is an example: BRAKE and BRAKES have exactly same letters in the first 5 positions. Given two words, compare how many positions are having the same values. So the similarity score is 5.\n",
    "Write code to take two words as word1 and word2 and calculate their similarity score."
   ]
  },
  {
   "cell_type": "code",
   "execution_count": null,
   "id": "c9c87280-df74-4409-9321-caef2c0e177c",
   "metadata": {},
   "outputs": [],
   "source": []
  },
  {
   "cell_type": "raw",
   "id": "a97de72c-c189-456f-a4cf-91a2d5d091ab",
   "metadata": {},
   "source": [
    "# Exercise\n",
    "Following the previous question, some measures of similarity count the no of common letters between words.\n",
    "water and what have 3 letters in common so the similarity score is 3.\n",
    "Write code to take two words as word1 and word2 and calculate their similarity score."
   ]
  },
  {
   "cell_type": "code",
   "execution_count": null,
   "id": "c26317a5-fbae-4170-a247-1620291c4e43",
   "metadata": {},
   "outputs": [],
   "source": []
  },
  {
   "cell_type": "code",
   "execution_count": null,
   "id": "ab8d65bf-66da-44da-a853-8b2d198ce367",
   "metadata": {},
   "outputs": [],
   "source": []
  }
 ],
 "metadata": {
  "kernelspec": {
   "display_name": "Python 3 (ipykernel)",
   "language": "python",
   "name": "python3"
  },
  "language_info": {
   "codemirror_mode": {
    "name": "ipython",
    "version": 3
   },
   "file_extension": ".py",
   "mimetype": "text/x-python",
   "name": "python",
   "nbconvert_exporter": "python",
   "pygments_lexer": "ipython3",
   "version": "3.10.9"
  }
 },
 "nbformat": 4,
 "nbformat_minor": 5
}
