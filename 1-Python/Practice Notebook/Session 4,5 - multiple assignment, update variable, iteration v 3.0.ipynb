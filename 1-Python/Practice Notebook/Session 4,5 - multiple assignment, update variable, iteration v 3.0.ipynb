{
 "cells": [
  {
   "cell_type": "markdown",
   "id": "8059fc52",
   "metadata": {},
   "source": [
    "# multiple assignment"
   ]
  },
  {
   "cell_type": "code",
   "execution_count": null,
   "id": "a64bcfa2",
   "metadata": {},
   "outputs": [],
   "source": [
    "# assign one value to multiple variables"
   ]
  },
  {
   "cell_type": "code",
   "execution_count": null,
   "id": "ca142829",
   "metadata": {},
   "outputs": [],
   "source": [
    "a = b = c = 5\n",
    "print (a,b,c)"
   ]
  },
  {
   "cell_type": "code",
   "execution_count": null,
   "id": "1874b08a",
   "metadata": {},
   "outputs": [],
   "source": [
    "total_math = total_chem = total_phy = 100\n",
    "math = 99\n",
    "chem = 98\n",
    "phy = 100\n",
    "\n",
    "# calculate % marks for all subjects\n",
    "print(\"math marks: \", math / total_math * 100, \" %\")"
   ]
  },
  {
   "cell_type": "code",
   "execution_count": null,
   "id": "f1986c78",
   "metadata": {},
   "outputs": [],
   "source": [
    "# assign values to multiple variables"
   ]
  },
  {
   "cell_type": "code",
   "execution_count": null,
   "id": "c10e039e",
   "metadata": {},
   "outputs": [],
   "source": [
    "total_math, total_chem, total_phy = 125, 100, 200\n",
    "math = 99\n",
    "chem = 98\n",
    "phy = 100\n",
    "\n",
    "# calculate % marks for all subjects\n",
    "print(\"math marks: \", math / total_math * 100, \" %\")"
   ]
  },
  {
   "cell_type": "code",
   "execution_count": null,
   "id": "fc9be9c9",
   "metadata": {},
   "outputs": [],
   "source": [
    "# unpack a list into multiple variables"
   ]
  },
  {
   "cell_type": "code",
   "execution_count": null,
   "id": "107242ef",
   "metadata": {},
   "outputs": [],
   "source": [
    "total_marks = [125,100,200]\n",
    "total_math, total_chem, total_phy = total_marks\n",
    "# calculate % marks for all subjects\n",
    "print(\"math marks: \", math / total_math * 100, \" %\")"
   ]
  },
  {
   "cell_type": "markdown",
   "id": "34885c79",
   "metadata": {},
   "source": [
    "# update variable"
   ]
  },
  {
   "cell_type": "code",
   "execution_count": null,
   "id": "be24b8d0",
   "metadata": {},
   "outputs": [],
   "source": [
    "# following statement creates and assigns initial value to a variable\n",
    "total_math = 100\n",
    "\n",
    "# say there was a change and the total marks was increased by 25\n",
    "\n",
    "# this is one way\n",
    "total_math = 125\n",
    "\n",
    "# this is another way\n",
    "total_math = total_math + 25"
   ]
  },
  {
   "cell_type": "code",
   "execution_count": null,
   "id": "ad56d84d",
   "metadata": {},
   "outputs": [],
   "source": [
    "# here is a short cut\n",
    "total_math = 100\n",
    "total_math += 25\n",
    "total_math"
   ]
  },
  {
   "cell_type": "code",
   "execution_count": null,
   "id": "3ac5ff39",
   "metadata": {},
   "outputs": [],
   "source": [
    "# Exercise\n",
    "# consider a non leap year. create a variable for days of a month starting from jan all the way to dec\n",
    "# initialize the variable with zero. cumulate elapsed days for each month. in the end display the total # of days in the year.\n"
   ]
  },
  {
   "cell_type": "code",
   "execution_count": null,
   "id": "7a142508",
   "metadata": {},
   "outputs": [],
   "source": [
    "num_of_days_in_year = 0\n",
    "# jan\n",
    "num_of_days_in_year += 31\n",
    "# feb\n",
    "num_of_days_in_year += 28\n",
    "# mar\n",
    "num_of_days_in_year += 31\n",
    "# apr\n",
    "num_of_days_in_year += 30\n",
    "# may\n",
    "num_of_days_in_year += 31\n",
    "# jun\n",
    "num_of_days_in_year += 30\n",
    "# jul\n",
    "num_of_days_in_year += 31\n",
    "# aug\n",
    "num_of_days_in_year += 31\n",
    "# sep\n",
    "num_of_days_in_year += 30\n",
    "# oct\n",
    "num_of_days_in_year += 31\n",
    "# nov\n",
    "num_of_days_in_year += 30\n",
    "# dec\n",
    "num_of_days_in_year += 31\n",
    "\n",
    "print(num_of_days_in_year)"
   ]
  },
  {
   "cell_type": "code",
   "execution_count": null,
   "id": "3ca39c3c",
   "metadata": {},
   "outputs": [],
   "source": [
    "# i track my steps using an app. this week (sunday to saturday), \n",
    "# i walked 5000,7500,12000,10000,1200,6700 and 11000 steps.\n",
    "# create a variable called steps_walked with an initial value of zero.\n",
    "# update the value to cumulate the steps walked so at the end of the week it holds the total number of steps walked.\n",
    "\n",
    "# initialize\n",
    "# sunday\n",
    "# monday\n",
    "# tuesday\n",
    "# wednesday\n",
    "# thursday\n",
    "# friday\n",
    "# saturday"
   ]
  },
  {
   "cell_type": "code",
   "execution_count": null,
   "id": "fdb78304",
   "metadata": {},
   "outputs": [],
   "source": [
    "print(steps_walked)"
   ]
  },
  {
   "cell_type": "code",
   "execution_count": null,
   "id": "43df171b",
   "metadata": {},
   "outputs": [],
   "source": [
    "# Exercise\n",
    "# in a recent IPL match, RCB batsmen scored following runs:\n",
    "# Kohli 47, Plessis 25, Patidar 58, Maxwell 24, Extras 5\n",
    "# Create variable called RCB_runs with initial value of zero and add up the runs sequentially.\n",
    "# display the finally runs\n"
   ]
  },
  {
   "cell_type": "code",
   "execution_count": null,
   "id": "ea70d088",
   "metadata": {},
   "outputs": [],
   "source": []
  },
  {
   "cell_type": "code",
   "execution_count": null,
   "id": "88b708b3",
   "metadata": {},
   "outputs": [],
   "source": [
    "# India, Aus and England play a triangular T20 cricket series\n",
    "# Each win gets the team 2 points, draw gets 1 point and loss 0.\n",
    "# initialize points for the three teams as zero. update their points after each match. in the end display the team points.\n",
    "# During the last week, 5 matches were played\n",
    "# Ind beat Aus\n",
    "# Aus beat Eng\n",
    "# Ind beat Eng\n",
    "# Eng beat Aus\n",
    "# Ind beat Aus\n"
   ]
  },
  {
   "cell_type": "code",
   "execution_count": null,
   "id": "3fec1233",
   "metadata": {},
   "outputs": [],
   "source": []
  },
  {
   "cell_type": "code",
   "execution_count": null,
   "id": "0ad5f1bb",
   "metadata": {},
   "outputs": [],
   "source": [
    "# shortcut updates are available for +, -, * and /"
   ]
  },
  {
   "cell_type": "code",
   "execution_count": null,
   "id": "e87aebf7",
   "metadata": {},
   "outputs": [],
   "source": [
    "x = 5\n",
    "# x += 2\n",
    "x = x + 2\n",
    "x"
   ]
  },
  {
   "cell_type": "code",
   "execution_count": null,
   "id": "8c0820a7",
   "metadata": {},
   "outputs": [],
   "source": [
    "x = 5\n",
    "x -= 2\n",
    "x"
   ]
  },
  {
   "cell_type": "code",
   "execution_count": null,
   "id": "30ced4b1",
   "metadata": {},
   "outputs": [],
   "source": [
    "x = 5\n",
    "x *= 2 # divide x by 2 and assign to x\n",
    "x"
   ]
  },
  {
   "cell_type": "code",
   "execution_count": null,
   "id": "5b2e8144",
   "metadata": {},
   "outputs": [],
   "source": [
    "x = 5\n",
    "x /= 2\n",
    "x"
   ]
  },
  {
   "cell_type": "markdown",
   "id": "9cb91dca",
   "metadata": {},
   "source": [
    "# iteration statements\n",
    "while loop is executed as long as the condition is true\n"
   ]
  },
  {
   "cell_type": "code",
   "execution_count": null,
   "id": "41a0dec7",
   "metadata": {},
   "outputs": [],
   "source": [
    "num = 5\n",
    "i = 1\n",
    "while (i < num):\n",
    "    print(i)\n",
    "    i += 1"
   ]
  },
  {
   "cell_type": "code",
   "execution_count": null,
   "id": "87d77804",
   "metadata": {},
   "outputs": [],
   "source": [
    "# what will happen to this statement:\n",
    "\n",
    "while True:\n",
    "    # statements"
   ]
  },
  {
   "cell_type": "code",
   "execution_count": null,
   "id": "ec693070",
   "metadata": {},
   "outputs": [],
   "source": [
    "# what will happen to this statement:\n",
    "\n",
    "while False:\n",
    "    print(\"something\")"
   ]
  },
  {
   "cell_type": "code",
   "execution_count": null,
   "id": "a264149d",
   "metadata": {},
   "outputs": [],
   "source": [
    "# update the code below to produce only 2,3,4 as output\n",
    "num = 5\n",
    "i = 1\n",
    "while (i < num):\n",
    "    print(i)\n",
    "    i += 1"
   ]
  },
  {
   "cell_type": "code",
   "execution_count": null,
   "id": "a2d85b14",
   "metadata": {},
   "outputs": [],
   "source": [
    "# Exercise\n",
    "# how many times will this loop get executed\n",
    "\n",
    "i = 1\n",
    "while (i < 3):\n",
    "    print(\"something\")"
   ]
  },
  {
   "cell_type": "code",
   "execution_count": null,
   "id": "c9c36ebb",
   "metadata": {},
   "outputs": [],
   "source": [
    "# Exercise\n",
    "# how many times will this loop get executed\n",
    "\n",
    "i = 1\n",
    "while (i < 3):\n",
    "    print(\"something\")\n",
    "    i += 1"
   ]
  },
  {
   "cell_type": "code",
   "execution_count": null,
   "id": "3cd646cd",
   "metadata": {},
   "outputs": [],
   "source": [
    "# Exercise\n",
    "# using while loop, calculate the factorial of a given number, say 7"
   ]
  },
  {
   "cell_type": "code",
   "execution_count": null,
   "id": "42631934",
   "metadata": {},
   "outputs": [],
   "source": []
  },
  {
   "cell_type": "code",
   "execution_count": null,
   "id": "20612ea1",
   "metadata": {},
   "outputs": [],
   "source": [
    "# while - else loop\n",
    "num = 5\n",
    "i = 1\n",
    "while (i <= num):\n",
    "    print(i)\n",
    "    i += 1\n",
    "else:\n",
    "    print(\"else:\",i)"
   ]
  },
  {
   "cell_type": "code",
   "execution_count": null,
   "id": "f6daca4b",
   "metadata": {},
   "outputs": [],
   "source": [
    "# Exercise\n",
    "# ISRO rockets use a countdown from 10 to 1 and then \"We have ignition\" as the rockets blasts off to space\n",
    "# create a while loop which ends in a print statement with the msg displayed"
   ]
  },
  {
   "cell_type": "code",
   "execution_count": null,
   "id": "8ecf0b78",
   "metadata": {},
   "outputs": [],
   "source": []
  },
  {
   "cell_type": "code",
   "execution_count": null,
   "id": "22b423fc",
   "metadata": {},
   "outputs": [],
   "source": [
    "# break terminates a loop and control passes on to the statement just after the loop"
   ]
  },
  {
   "cell_type": "code",
   "execution_count": null,
   "id": "9343452b",
   "metadata": {},
   "outputs": [],
   "source": [
    "# while - break\n",
    "# break stops the while loop and takes the flow to the statement after the while loop\n",
    "\n",
    "num = 3\n",
    "i = 0\n",
    "while (i <= 5):\n",
    "    print(i)\n",
    "    i += 1\n",
    "    if (i == num):\n",
    "        break"
   ]
  },
  {
   "cell_type": "code",
   "execution_count": null,
   "id": "1e0b5657",
   "metadata": {
    "slideshow": {
     "slide_type": "slide"
    }
   },
   "outputs": [],
   "source": [
    "# use break to stop an infinite loop\n",
    "i = 0\n",
    "while True:\n",
    "    if (i > 5):\n",
    "        break\n",
    "    i += 1"
   ]
  },
  {
   "cell_type": "code",
   "execution_count": null,
   "id": "93c0f5d3",
   "metadata": {},
   "outputs": [],
   "source": [
    "# test for prime number\n",
    "# check if the number is divisible by any number in the 2,3,... sqrt(number) range\n",
    "# if the number is not a square number then round down to the closest integer. \n",
    "# For e.g. we wish to check if 27 is a prime number then we check from 2,3,..till 5\n",
    "# check if 213 is a prime number\n",
    "\n",
    "# break statement is useful to stop the execution once we have a divisor for the number"
   ]
  },
  {
   "cell_type": "code",
   "execution_count": null,
   "id": "6ff0c5f8",
   "metadata": {},
   "outputs": [],
   "source": []
  },
  {
   "cell_type": "code",
   "execution_count": null,
   "id": "27e2d74e",
   "metadata": {},
   "outputs": [],
   "source": [
    "# while - continue\n",
    "# continue stops the current loop and initiate the next loop\n",
    "\n",
    "stop_at = 6\n",
    "i = 0\n",
    "skip_this = 4\n",
    "\n",
    "while (i <= stop_at):\n",
    "    if (i== skip_this):\n",
    "        i += 1\n",
    "        continue\n",
    "    else:\n",
    "        print(i)\n",
    "        i += 1\n",
    "        "
   ]
  },
  {
   "cell_type": "code",
   "execution_count": null,
   "id": "c95c38ae",
   "metadata": {},
   "outputs": [],
   "source": [
    "# Exercise\n",
    "# consider days of a week as numbered 1 to 7 with monday to friday being 1 to 5, \n",
    "# saturday is 6 and sunday is 7\n",
    "# skip the weekdays. print \"Good day\" for the weekend days."
   ]
  },
  {
   "cell_type": "code",
   "execution_count": null,
   "id": "b0650f97",
   "metadata": {},
   "outputs": [],
   "source": []
  },
  {
   "cell_type": "code",
   "execution_count": null,
   "id": "ad836f82",
   "metadata": {},
   "outputs": [],
   "source": [
    "# take in start and end of range of numbers\n",
    "# loop from start up to end of the range, print \"odd\" or \"even\" for each number after checking\n"
   ]
  },
  {
   "cell_type": "code",
   "execution_count": null,
   "id": "9655ac42",
   "metadata": {},
   "outputs": [],
   "source": []
  },
  {
   "cell_type": "code",
   "execution_count": null,
   "id": "f0dd364b",
   "metadata": {},
   "outputs": [],
   "source": [
    "# print the digits of a given number\n",
    "num = 8971309425\n",
    "\n",
    "while (num != 0):\n",
    "    last_digit = num % 10\n",
    "    print(last_digit)\n",
    "    num = int(num/10)\n",
    "    print (\"number now is \", num)"
   ]
  },
  {
   "cell_type": "code",
   "execution_count": null,
   "id": "7036ea3c",
   "metadata": {},
   "outputs": [],
   "source": [
    "# Exercise\n",
    "# total the digits of a given number\n",
    "num = 8971309425\n"
   ]
  },
  {
   "cell_type": "code",
   "execution_count": null,
   "id": "59abe5cc",
   "metadata": {},
   "outputs": [],
   "source": []
  },
  {
   "cell_type": "code",
   "execution_count": null,
   "id": "1b4cb848",
   "metadata": {},
   "outputs": [],
   "source": [
    "# find the least digits of a given number\n",
    "num = 947\n"
   ]
  },
  {
   "cell_type": "code",
   "execution_count": null,
   "id": "91b45542",
   "metadata": {},
   "outputs": [],
   "source": [
    "# find the least digits of a given number\n"
   ]
  },
  {
   "cell_type": "code",
   "execution_count": null,
   "id": "07a52a48",
   "metadata": {},
   "outputs": [],
   "source": []
  },
  {
   "cell_type": "code",
   "execution_count": null,
   "id": "5dfbb726",
   "metadata": {},
   "outputs": [],
   "source": [
    "# Exercise\n",
    "# print multiple tables of a given number from 1 to 16\n",
    "# example, if number is 2 then 2 x 1 = 2, 2 x 2 = 4 .... 2 x 16 = 32"
   ]
  },
  {
   "cell_type": "code",
   "execution_count": null,
   "id": "e4919660",
   "metadata": {},
   "outputs": [],
   "source": []
  },
  {
   "cell_type": "code",
   "execution_count": null,
   "id": "e2852447",
   "metadata": {},
   "outputs": [],
   "source": [
    "# Exercise\n",
    "# Write a Python program to find those numbers which are divisible by 7 and multiple of 5, \n",
    "# between 1500 and 2700 (both included)"
   ]
  },
  {
   "cell_type": "code",
   "execution_count": null,
   "id": "7a8d2a59",
   "metadata": {},
   "outputs": [],
   "source": [
    "loop\n",
    "    check for divisibility by 5\n",
    "        check for divisibility by 7\n",
    "            print number\n",
    "            "
   ]
  },
  {
   "cell_type": "code",
   "execution_count": null,
   "id": "b8dd5f5d",
   "metadata": {},
   "outputs": [],
   "source": [
    "# Write a Python program to guess a number between 1 to 9. Go to the editor\n",
    "# Note : User is prompted to enter a guess. \n",
    "# If the user guesses wrong then the prompt appears again until the guess is correct, on successful guess, \n",
    "# user will get a \"Well guessed!\" message, and the program will exit."
   ]
  },
  {
   "cell_type": "code",
   "execution_count": null,
   "id": "00f632d3",
   "metadata": {},
   "outputs": [],
   "source": [
    "prize = 5\n",
    "\n",
    "while True:\n",
    "    guess = int(input(\"enter number: \"))\n",
    "    if (guess == prize):\n",
    "        print(\"awesome\")\n",
    "        break\n",
    "    else:\n",
    "        print(\"try again please\")"
   ]
  },
  {
   "cell_type": "code",
   "execution_count": null,
   "id": "89053f76",
   "metadata": {},
   "outputs": [],
   "source": []
  },
  {
   "cell_type": "code",
   "execution_count": null,
   "id": "54272fc5",
   "metadata": {},
   "outputs": [],
   "source": [
    "# Exercise\n",
    "# Generate the first 10 numbers of the Fibonacci series\n",
    "# Every next number is found by adding up the two numbers before it.\n",
    "# Expected Output : 1 1 2 3 5 8 13 21 34 55\n",
    "\n",
    "# hint: start with initial values of 0 and 1 to produce the first number. then update them to produce subsequent numbers."
   ]
  },
  {
   "cell_type": "code",
   "execution_count": null,
   "id": "ee359be4",
   "metadata": {},
   "outputs": [],
   "source": [
    "first = 0\n",
    "second = 1\n",
    "while (second < 100):\n",
    "    next = first + second\n",
    "    print (second)\n",
    "    first = second\n",
    "    second = next "
   ]
  },
  {
   "cell_type": "code",
   "execution_count": null,
   "id": "e330c4f9",
   "metadata": {},
   "outputs": [],
   "source": [
    "x,y=0,1\n",
    "\n",
    "while (y<50):\n",
    "    print(y)\n",
    "    x,y = y,x+y"
   ]
  },
  {
   "cell_type": "code",
   "execution_count": null,
   "id": "6351f95c",
   "metadata": {},
   "outputs": [],
   "source": [
    "# Exercise\n",
    "# sum of numbers from 1,2,3,...n is given by the formula n*(n+1)/2\n",
    "# verify this\n",
    "\n",
    "# take n as 20, calculate using formula and verify using while loop"
   ]
  },
  {
   "cell_type": "code",
   "execution_count": null,
   "id": "39138b5d",
   "metadata": {},
   "outputs": [],
   "source": []
  },
  {
   "cell_type": "code",
   "execution_count": null,
   "id": "21ffc564",
   "metadata": {},
   "outputs": [],
   "source": [
    "# Exercise\n",
    "# stock market is estimated to give a return of about 12% per annum. this means 100 Rs invested becomes 112 in a year.\n",
    "# if the investor stays invested, then the next year this 112 grows by 12%.\n",
    "# as a young investor you plan for long term, next 20 years. You wish to have a corpus of 1 Cr.\n",
    "# what is the initial amount to invest and stay invested for 20 years so the corpus becomes 1 Cr?\n",
    "# approach this as a \"what if\" by trying different initial investment amounts"
   ]
  },
  {
   "cell_type": "code",
   "execution_count": null,
   "id": "1e611338",
   "metadata": {},
   "outputs": [],
   "source": []
  },
  {
   "cell_type": "code",
   "execution_count": null,
   "id": "94aeb6a7",
   "metadata": {},
   "outputs": [],
   "source": [
    "# Exercise\n",
    "# reverse a given number\n",
    "\n",
    "num = 1947\n"
   ]
  },
  {
   "cell_type": "code",
   "execution_count": null,
   "id": "54e26da5",
   "metadata": {},
   "outputs": [],
   "source": []
  },
  {
   "cell_type": "code",
   "execution_count": null,
   "id": "8f2af973",
   "metadata": {},
   "outputs": [],
   "source": [
    "# Exercise\n",
    "# list all prime numbers less than 25\n",
    "\n",
    "# hint: create a while loop to go from 2 to 25. create a while loop within that to check numbers 2 to sqrt(n) as divisor"
   ]
  },
  {
   "cell_type": "code",
   "execution_count": null,
   "id": "9b203db8",
   "metadata": {},
   "outputs": [],
   "source": [
    "# check if a num is prime by considering numbers from 2 to sqrt(number) as divisors\n"
   ]
  },
  {
   "cell_type": "code",
   "execution_count": null,
   "id": "6f4ee163",
   "metadata": {},
   "outputs": [],
   "source": [
    "# check all numbers below given number\n",
    "\n"
   ]
  },
  {
   "cell_type": "code",
   "execution_count": null,
   "id": "16ac890a",
   "metadata": {},
   "outputs": [],
   "source": []
  },
  {
   "cell_type": "code",
   "execution_count": null,
   "id": "88b5bb26",
   "metadata": {},
   "outputs": [],
   "source": [
    "# Exercise\n",
    "# A student scored the following marks in her XII 100, 90, 96, 98, 85\n",
    "# set this up as a list and parse using a loop and calculate the total marks"
   ]
  },
  {
   "cell_type": "code",
   "execution_count": null,
   "id": "602e2491",
   "metadata": {},
   "outputs": [],
   "source": [
    "# calculate the average marks"
   ]
  },
  {
   "cell_type": "code",
   "execution_count": null,
   "id": "927397a6",
   "metadata": {},
   "outputs": [],
   "source": [
    "# calculate the standard deviation of marks"
   ]
  },
  {
   "cell_type": "code",
   "execution_count": null,
   "id": "02dbd21e",
   "metadata": {},
   "outputs": [],
   "source": [
    "# display the least and highest marks"
   ]
  },
  {
   "cell_type": "code",
   "execution_count": null,
   "id": "347921e2",
   "metadata": {},
   "outputs": [],
   "source": []
  }
 ],
 "metadata": {
  "kernelspec": {
   "display_name": "Python 3 (ipykernel)",
   "language": "python",
   "name": "python3"
  },
  "language_info": {
   "codemirror_mode": {
    "name": "ipython",
    "version": 3
   },
   "file_extension": ".py",
   "mimetype": "text/x-python",
   "name": "python",
   "nbconvert_exporter": "python",
   "pygments_lexer": "ipython3",
   "version": "3.10.9"
  }
 },
 "nbformat": 4,
 "nbformat_minor": 5
}
