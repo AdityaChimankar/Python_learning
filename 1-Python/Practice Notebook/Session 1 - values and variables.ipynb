{
 "cells": [
  {
   "cell_type": "markdown",
   "id": "bde795ef",
   "metadata": {},
   "source": [
    "### more print"
   ]
  },
  {
   "cell_type": "code",
   "execution_count": 3,
   "id": "db5910a4",
   "metadata": {},
   "outputs": [
    {
     "name": "stdout",
     "output_type": "stream",
     "text": [
      "this is fun\n"
     ]
    }
   ],
   "source": [
    "# Printing text\n",
    "print(\"this is fun\")"
   ]
  },
  {
   "cell_type": "code",
   "execution_count": 4,
   "id": "14593221",
   "metadata": {},
   "outputs": [
    {
     "name": "stdout",
     "output_type": "stream",
     "text": [
      "Hello world\n",
      "this is fun\n"
     ]
    }
   ],
   "source": [
    "print(\"Hello world\")\n",
    "print(\"this is fun\")"
   ]
  },
  {
   "cell_type": "code",
   "execution_count": null,
   "id": "7f049bc8",
   "metadata": {},
   "outputs": [],
   "source": [
    "# backslash is used to create escape sequences i.e. it escapes the usual and does something else\n",
    "# \\n is used to add a new line.\n",
    "# \\t is used to add a tab\n",
    "# \\\\ is used to include \\ as part of folder path (we will see this later in the course)"
   ]
  },
  {
   "cell_type": "code",
   "execution_count": 12,
   "id": "a4d58b16",
   "metadata": {},
   "outputs": [
    {
     "name": "stdout",
     "output_type": "stream",
     "text": [
      "hello \n",
      " people \n",
      " of \n",
      " Earth\n"
     ]
    }
   ],
   "source": [
    "print(\"hello\", \"\\n\", \"people\", \"\\n\", \"of\", \"\\n\", \"Earth\")"
   ]
  },
  {
   "cell_type": "code",
   "execution_count": 13,
   "id": "31b8e450",
   "metadata": {},
   "outputs": [
    {
     "name": "stdout",
     "output_type": "stream",
     "text": [
      "Hello world \n",
      " this is fun\n"
     ]
    }
   ],
   "source": [
    "print(\"Hello world\", \"\\n\", \"this is fun\") # notice the \"\\n\" newline character"
   ]
  },
  {
   "cell_type": "code",
   "execution_count": 14,
   "id": "1c841d51",
   "metadata": {},
   "outputs": [
    {
     "name": "stdout",
     "output_type": "stream",
     "text": [
      "Hello world \t this is fun\n"
     ]
    }
   ],
   "source": [
    "# tab character\n",
    "print(\"Hello world\", \"\\t\", \"this is fun\")"
   ]
  },
  {
   "cell_type": "code",
   "execution_count": 19,
   "id": "12ea8030",
   "metadata": {},
   "outputs": [
    {
     "name": "stdout",
     "output_type": "stream",
     "text": [
      "22 OneOne s@praxis.ac.in\n"
     ]
    }
   ],
   "source": [
    "print(11*2, 2*\"One\", \"s@praxis.ac.in\")"
   ]
  },
  {
   "cell_type": "code",
   "execution_count": 20,
   "id": "6f47e7ee",
   "metadata": {},
   "outputs": [
    {
     "data": {
      "text/plain": [
       "25"
      ]
     },
     "execution_count": 20,
     "metadata": {},
     "output_type": "execute_result"
    }
   ],
   "source": [
    "# add\n",
    "13 + 12"
   ]
  },
  {
   "cell_type": "code",
   "execution_count": 21,
   "id": "56c8663f",
   "metadata": {},
   "outputs": [
    {
     "data": {
      "text/plain": [
       "1"
      ]
     },
     "execution_count": 21,
     "metadata": {},
     "output_type": "execute_result"
    }
   ],
   "source": [
    "# subtract\n",
    "13 - 12"
   ]
  },
  {
   "cell_type": "code",
   "execution_count": 22,
   "id": "8330c285",
   "metadata": {},
   "outputs": [
    {
     "data": {
      "text/plain": [
       "156"
      ]
     },
     "execution_count": 22,
     "metadata": {},
     "output_type": "execute_result"
    }
   ],
   "source": [
    "# multiply\n",
    "13 * 12"
   ]
  },
  {
   "cell_type": "code",
   "execution_count": 23,
   "id": "65d269e8",
   "metadata": {},
   "outputs": [
    {
     "data": {
      "text/plain": [
       "1.0833333333333333"
      ]
     },
     "execution_count": 23,
     "metadata": {},
     "output_type": "execute_result"
    }
   ],
   "source": [
    "# divide\n",
    "13 / 12"
   ]
  },
  {
   "cell_type": "code",
   "execution_count": 24,
   "id": "f3ca829f",
   "metadata": {},
   "outputs": [
    {
     "data": {
      "text/plain": [
       "169"
      ]
     },
     "execution_count": 24,
     "metadata": {},
     "output_type": "execute_result"
    }
   ],
   "source": [
    "# power of\n",
    "13 ** 2"
   ]
  },
  {
   "cell_type": "code",
   "execution_count": 30,
   "id": "2046d275",
   "metadata": {},
   "outputs": [
    {
     "data": {
      "text/plain": [
       "15"
      ]
     },
     "execution_count": 30,
     "metadata": {},
     "output_type": "execute_result"
    }
   ],
   "source": [
    "# more operators: modulus operation returns the remainder\n",
    "100 % 17"
   ]
  },
  {
   "cell_type": "code",
   "execution_count": 32,
   "id": "e68d5e14",
   "metadata": {},
   "outputs": [
    {
     "data": {
      "text/plain": [
       "3"
      ]
     },
     "execution_count": 32,
     "metadata": {},
     "output_type": "execute_result"
    }
   ],
   "source": [
    "# returns the quotient\n",
    "18 // 5"
   ]
  },
  {
   "cell_type": "code",
   "execution_count": 33,
   "id": "e18489c5",
   "metadata": {},
   "outputs": [
    {
     "name": "stdout",
     "output_type": "stream",
     "text": [
      "I took two numbers and added them. I got this : 11\n"
     ]
    }
   ],
   "source": [
    "# using calculations in a print\n",
    "print(\"I took two numbers and added them. I got this :\", 5+6)"
   ]
  },
  {
   "cell_type": "code",
   "execution_count": 34,
   "id": "72936ac4",
   "metadata": {},
   "outputs": [
    {
     "name": "stdout",
     "output_type": "stream",
     "text": [
      "The modulus operation returns the reminder  3\n"
     ]
    }
   ],
   "source": [
    "print(\"The modulus operation returns the reminder \", 18 % 5)"
   ]
  },
  {
   "cell_type": "code",
   "execution_count": 37,
   "id": "c7729be4",
   "metadata": {},
   "outputs": [
    {
     "name": "stdout",
     "output_type": "stream",
     "text": [
      "how is this session? is it fun?\n"
     ]
    }
   ],
   "source": [
    "print(\"how is this session?\" , \"is it fun?\")"
   ]
  },
  {
   "cell_type": "raw",
   "id": "bee3c08c",
   "metadata": {},
   "source": [
    "# this is a markdown type cell\n",
    "## there are formats possible here\n",
    "### header 3\n",
    "#### header 4\n",
    "###### header 5"
   ]
  },
  {
   "cell_type": "markdown",
   "id": "c5645abd",
   "metadata": {},
   "source": [
    "## values and variables"
   ]
  },
  {
   "cell_type": "markdown",
   "id": "c1d27eaa",
   "metadata": {},
   "source": [
    "### create variables"
   ]
  },
  {
   "cell_type": "code",
   "execution_count": 40,
   "id": "c8f44a8f",
   "metadata": {},
   "outputs": [],
   "source": [
    "my_variable = \"Python fan\""
   ]
  },
  {
   "cell_type": "code",
   "execution_count": 48,
   "id": "e0bf6f73",
   "metadata": {},
   "outputs": [
    {
     "name": "stdout",
     "output_type": "stream",
     "text": [
      "I am a Python fan\n"
     ]
    }
   ],
   "source": [
    "print(\"I am a\", my_variable)"
   ]
  },
  {
   "cell_type": "code",
   "execution_count": 49,
   "id": "461b0301",
   "metadata": {},
   "outputs": [],
   "source": [
    "# this creates a variable with the given name, assigns an integer type value\n",
    "count_of_pens = 12"
   ]
  },
  {
   "cell_type": "code",
   "execution_count": 50,
   "id": "59977d3d",
   "metadata": {},
   "outputs": [
    {
     "data": {
      "text/plain": [
       "int"
      ]
     },
     "execution_count": 50,
     "metadata": {},
     "output_type": "execute_result"
    }
   ],
   "source": [
    "# check the type\n",
    "type(count_of_pens)"
   ]
  },
  {
   "cell_type": "code",
   "execution_count": 51,
   "id": "9f0aada2",
   "metadata": {},
   "outputs": [],
   "source": [
    "# create a new float type variable\n",
    "pens_weight = 1.5"
   ]
  },
  {
   "cell_type": "code",
   "execution_count": 52,
   "id": "fb3f42e3",
   "metadata": {},
   "outputs": [
    {
     "data": {
      "text/plain": [
       "float"
      ]
     },
     "execution_count": 52,
     "metadata": {},
     "output_type": "execute_result"
    }
   ],
   "source": [
    "type(pens_weight)"
   ]
  },
  {
   "cell_type": "code",
   "execution_count": 55,
   "id": "6e27d9a9",
   "metadata": {},
   "outputs": [
    {
     "data": {
      "text/plain": [
       "'h'"
      ]
     },
     "execution_count": 55,
     "metadata": {},
     "output_type": "execute_result"
    }
   ],
   "source": [
    "# create a new string variable\n",
    "greetings = \"h\"\n",
    "greetings"
   ]
  },
  {
   "cell_type": "code",
   "execution_count": 56,
   "id": "d2950f66",
   "metadata": {},
   "outputs": [
    {
     "data": {
      "text/plain": [
       "str"
      ]
     },
     "execution_count": 56,
     "metadata": {},
     "output_type": "execute_result"
    }
   ],
   "source": [
    "type(greetings)"
   ]
  },
  {
   "cell_type": "code",
   "execution_count": null,
   "id": "1c319f2e",
   "metadata": {},
   "outputs": [],
   "source": [
    "# string can be created using single or double quotes\n",
    "greetings = 'hello world'\n",
    "greetings"
   ]
  },
  {
   "cell_type": "code",
   "execution_count": 60,
   "id": "72ce5d8b",
   "metadata": {},
   "outputs": [
    {
     "data": {
      "text/plain": [
       "False"
      ]
     },
     "execution_count": 60,
     "metadata": {},
     "output_type": "execute_result"
    }
   ],
   "source": [
    "(5 == 3)"
   ]
  },
  {
   "cell_type": "code",
   "execution_count": 61,
   "id": "7ea2b3a0",
   "metadata": {},
   "outputs": [
    {
     "data": {
      "text/plain": [
       "(bool, bool)"
      ]
     },
     "execution_count": 61,
     "metadata": {},
     "output_type": "execute_result"
    }
   ],
   "source": [
    "T = True\n",
    "F = False\n",
    "type(T), type(F)"
   ]
  },
  {
   "cell_type": "code",
   "execution_count": 62,
   "id": "b5332bd4",
   "metadata": {},
   "outputs": [
    {
     "data": {
      "text/plain": [
       "True"
      ]
     },
     "execution_count": 62,
     "metadata": {},
     "output_type": "execute_result"
    }
   ],
   "source": [
    "# create a new bolean variable\n",
    "check = (5 > 3)\n",
    "check"
   ]
  },
  {
   "cell_type": "code",
   "execution_count": 63,
   "id": "fb2954d3",
   "metadata": {},
   "outputs": [
    {
     "data": {
      "text/plain": [
       "bool"
      ]
     },
     "execution_count": 63,
     "metadata": {},
     "output_type": "execute_result"
    }
   ],
   "source": [
    "type(check)"
   ]
  },
  {
   "cell_type": "code",
   "execution_count": null,
   "id": "d99bd8d8",
   "metadata": {},
   "outputs": [],
   "source": [
    "check = (5 < 3)\n",
    "check"
   ]
  },
  {
   "cell_type": "code",
   "execution_count": null,
   "id": "5733402d",
   "metadata": {},
   "outputs": [],
   "source": [
    "type(check)"
   ]
  },
  {
   "cell_type": "code",
   "execution_count": null,
   "id": "a1a45c20",
   "metadata": {},
   "outputs": [],
   "source": [
    "check = False\n",
    "type(check)"
   ]
  },
  {
   "cell_type": "code",
   "execution_count": 66,
   "id": "b58e0b46",
   "metadata": {},
   "outputs": [
    {
     "data": {
      "text/plain": [
       "36"
      ]
     },
     "execution_count": 66,
     "metadata": {},
     "output_type": "execute_result"
    }
   ],
   "source": [
    "# there are two ways of displaying values in the variables\n",
    "count_of_pens * 3 # count of pens in the bag\n",
    "# count_of_pencils"
   ]
  },
  {
   "cell_type": "code",
   "execution_count": 69,
   "id": "cca2809b",
   "metadata": {},
   "outputs": [
    {
     "name": "stdout",
     "output_type": "stream",
     "text": [
      "12\n"
     ]
    }
   ],
   "source": [
    "print(count_of_pens)"
   ]
  },
  {
   "cell_type": "code",
   "execution_count": 71,
   "id": "130feb38",
   "metadata": {},
   "outputs": [
    {
     "name": "stdout",
     "output_type": "stream",
     "text": [
      "There were  12 pens in the store. They weigh  1.5  kgs\n"
     ]
    }
   ],
   "source": [
    "# combine variables in same print \n",
    "print(\"There were \", count_of_pens, \"pens in the store. They weigh \", pens_weight, \" kgs\")"
   ]
  },
  {
   "cell_type": "code",
   "execution_count": 72,
   "id": "b8583bab",
   "metadata": {},
   "outputs": [
    {
     "name": "stdout",
     "output_type": "stream",
     "text": [
      "Python is a fun language to learn\n"
     ]
    }
   ],
   "source": [
    "# displaying string variable\n",
    "lang_name = \"Python\"\n",
    "print(lang_name, \"is a fun language to learn\")"
   ]
  },
  {
   "cell_type": "code",
   "execution_count": 74,
   "id": "02082096",
   "metadata": {},
   "outputs": [
    {
     "name": "stdout",
     "output_type": "stream",
     "text": [
      "True\n"
     ]
    }
   ],
   "source": [
    "# displaying boolean variable\n",
    "marks = 95\n",
    "results =  ((marks + 5) >= 40)\n",
    "print(check)"
   ]
  },
  {
   "cell_type": "code",
   "execution_count": 75,
   "id": "447bde92",
   "metadata": {},
   "outputs": [
    {
     "data": {
      "text/plain": [
       "(30, 'Tuesday', True)"
      ]
     },
     "execution_count": 75,
     "metadata": {},
     "output_type": "execute_result"
    }
   ],
   "source": [
    "# difference between equality \"==\" and assignment \"=\" operators\n",
    "\n",
    "# when we want to assign a value to a variable, = is used\n",
    "# when we want to compare two variables / values, == is used\n",
    "\n",
    "# assign value to a variable \n",
    "temperature = 30\n",
    "day = \"Tuesday\"\n",
    "having_fun = True\n",
    "\n",
    "temperature, day, having_fun"
   ]
  },
  {
   "cell_type": "code",
   "execution_count": 76,
   "id": "59d26ef0",
   "metadata": {},
   "outputs": [
    {
     "data": {
      "text/plain": [
       "True"
      ]
     },
     "execution_count": 76,
     "metadata": {},
     "output_type": "execute_result"
    }
   ],
   "source": [
    "# the == operator compares two variables / values and returns a bolean\n",
    "temperature == 30"
   ]
  },
  {
   "cell_type": "code",
   "execution_count": 77,
   "id": "7b1a296f",
   "metadata": {},
   "outputs": [
    {
     "data": {
      "text/plain": [
       "False"
      ]
     },
     "execution_count": 77,
     "metadata": {},
     "output_type": "execute_result"
    }
   ],
   "source": [
    "day == 'Friday'"
   ]
  },
  {
   "cell_type": "code",
   "execution_count": 78,
   "id": "d5edc28f",
   "metadata": {},
   "outputs": [
    {
     "data": {
      "text/plain": [
       "(False, False, True, True)"
      ]
     },
     "execution_count": 78,
     "metadata": {},
     "output_type": "execute_result"
    }
   ],
   "source": [
    "temperature < 30, temperature > 30, temperature <= 30, temperature >= 30"
   ]
  },
  {
   "cell_type": "markdown",
   "id": "078e271c",
   "metadata": {},
   "source": [
    "### use variables in operations"
   ]
  },
  {
   "cell_type": "code",
   "execution_count": 82,
   "id": "6eaa5ffd",
   "metadata": {},
   "outputs": [
    {
     "data": {
      "text/plain": [
       "479"
      ]
     },
     "execution_count": 82,
     "metadata": {},
     "output_type": "execute_result"
    }
   ],
   "source": [
    "maths = 100\n",
    "physics = 98\n",
    "chemistry = 99\n",
    "biology = 95\n",
    "english = 87\n",
    "\n",
    "total_marks = maths + physics + chemistry + biology + english\n",
    "\n",
    "total_marks"
   ]
  },
  {
   "cell_type": "code",
   "execution_count": 81,
   "id": "51654e5a",
   "metadata": {},
   "outputs": [
    {
     "data": {
      "text/plain": [
       "1000"
      ]
     },
     "execution_count": 81,
     "metadata": {},
     "output_type": "execute_result"
    }
   ],
   "source": [
    "sales = 4500\n",
    "cost = 3500\n",
    "profit = sales - cost\n",
    "profit"
   ]
  },
  {
   "cell_type": "code",
   "execution_count": null,
   "id": "6e6623f9",
   "metadata": {},
   "outputs": [],
   "source": [
    "unit_price = 4.2\n",
    "qty = 120\n",
    "total_amount = unit_price * qty\n",
    "print(total_amount)"
   ]
  },
  {
   "cell_type": "code",
   "execution_count": null,
   "id": "e82acde8",
   "metadata": {},
   "outputs": [],
   "source": [
    "profit = 1000\n",
    "shares = 200\n",
    "profit_per_share = profit / shares\n",
    "print(profit_per_share)"
   ]
  },
  {
   "cell_type": "code",
   "execution_count": null,
   "id": "e778626b",
   "metadata": {},
   "outputs": [],
   "source": [
    "profitable = (sales > cost)\n",
    "profitable"
   ]
  },
  {
   "cell_type": "code",
   "execution_count": 83,
   "id": "63c87e39",
   "metadata": {},
   "outputs": [
    {
     "data": {
      "text/plain": [
       "True"
      ]
     },
     "execution_count": 83,
     "metadata": {},
     "output_type": "execute_result"
    }
   ],
   "source": [
    "# did the student get full marks in maths?\n",
    "maths == 100"
   ]
  },
  {
   "cell_type": "code",
   "execution_count": 84,
   "id": "93606949",
   "metadata": {},
   "outputs": [
    {
     "data": {
      "text/plain": [
       "31.75"
      ]
     },
     "execution_count": 84,
     "metadata": {},
     "output_type": "execute_result"
    }
   ],
   "source": [
    "# quotient, remainder\n",
    "\n",
    "# four friends ate lunch and decided to split the bill\n",
    "bill_amount = 127\n",
    "people = 4\n",
    "bill_amount/people"
   ]
  },
  {
   "cell_type": "code",
   "execution_count": 85,
   "id": "4d583e5c",
   "metadata": {},
   "outputs": [
    {
     "data": {
      "text/plain": [
       "31"
      ]
     },
     "execution_count": 85,
     "metadata": {},
     "output_type": "execute_result"
    }
   ],
   "source": [
    "bill_amount//people # quotient"
   ]
  },
  {
   "cell_type": "code",
   "execution_count": 86,
   "id": "7a4b9d70",
   "metadata": {},
   "outputs": [
    {
     "data": {
      "text/plain": [
       "3"
      ]
     },
     "execution_count": 86,
     "metadata": {},
     "output_type": "execute_result"
    }
   ],
   "source": [
    "bill_amount % people # remainder"
   ]
  },
  {
   "cell_type": "code",
   "execution_count": 87,
   "id": "80f322b9",
   "metadata": {},
   "outputs": [
    {
     "data": {
      "text/plain": [
       "25"
      ]
     },
     "execution_count": 87,
     "metadata": {},
     "output_type": "execute_result"
    }
   ],
   "source": [
    "# power operator **\n",
    "5**2"
   ]
  },
  {
   "cell_type": "markdown",
   "id": "4d50b6fc",
   "metadata": {},
   "source": [
    "### avoid the reserved keywords as names of variables"
   ]
  },
  {
   "cell_type": "markdown",
   "id": "70b4a601",
   "metadata": {},
   "source": [
    "Python has a set of keywords that are reserved words that cannot be used as variable names, function names, or any other identifiers\n",
    "\n",
    "a list can be seen in\n",
    "\n",
    "https://www.w3schools.com/python/python_ref_keywords.asp"
   ]
  },
  {
   "cell_type": "code",
   "execution_count": 93,
   "id": "90b2c3bf",
   "metadata": {},
   "outputs": [
    {
     "data": {
      "text/plain": [
       "1"
      ]
     },
     "execution_count": 93,
     "metadata": {},
     "output_type": "execute_result"
    }
   ],
   "source": [
    "(1) **  (2)"
   ]
  },
  {
   "cell_type": "code",
   "execution_count": 94,
   "id": "55884a13",
   "metadata": {},
   "outputs": [
    {
     "ename": "SyntaxError",
     "evalue": "cannot assign to True (303122208.py, line 2)",
     "output_type": "error",
     "traceback": [
      "\u001b[1;36m  Cell \u001b[1;32mIn[94], line 2\u001b[1;36m\u001b[0m\n\u001b[1;33m    True = 2\u001b[0m\n\u001b[1;37m    ^\u001b[0m\n\u001b[1;31mSyntaxError\u001b[0m\u001b[1;31m:\u001b[0m cannot assign to True\n"
     ]
    }
   ],
   "source": [
    "# True and False are keywords.\n",
    "True = 2"
   ]
  },
  {
   "cell_type": "code",
   "execution_count": 95,
   "id": "558d2bab",
   "metadata": {},
   "outputs": [
    {
     "ename": "SyntaxError",
     "evalue": "invalid syntax (191355952.py, line 1)",
     "output_type": "error",
     "traceback": [
      "\u001b[1;36m  Cell \u001b[1;32mIn[95], line 1\u001b[1;36m\u001b[0m\n\u001b[1;33m    for = 3\u001b[0m\n\u001b[1;37m        ^\u001b[0m\n\u001b[1;31mSyntaxError\u001b[0m\u001b[1;31m:\u001b[0m invalid syntax\n"
     ]
    }
   ],
   "source": [
    "for = 3"
   ]
  },
  {
   "cell_type": "markdown",
   "id": "d112fe45",
   "metadata": {},
   "source": [
    "### order of operation: PEMDAS"
   ]
  },
  {
   "cell_type": "markdown",
   "id": "6ee845ca",
   "metadata": {},
   "source": [
    "(paranthesis exponents multiplication division addition and subtraction)\n",
    "\n",
    "while computing expressions, this sequence is used"
   ]
  },
  {
   "cell_type": "code",
   "execution_count": null,
   "id": "85e4fd86",
   "metadata": {},
   "outputs": [],
   "source": [
    "10 - 2 * 4"
   ]
  },
  {
   "cell_type": "code",
   "execution_count": null,
   "id": "28bebe4f",
   "metadata": {},
   "outputs": [],
   "source": [
    "(10 - 2) * 4"
   ]
  },
  {
   "cell_type": "code",
   "execution_count": null,
   "id": "8b46165e",
   "metadata": {},
   "outputs": [],
   "source": [
    "((6+4)*2 - 10)/2 - 4"
   ]
  },
  {
   "cell_type": "code",
   "execution_count": null,
   "id": "dfb90101",
   "metadata": {},
   "outputs": [],
   "source": [
    "(5 - 1) * ((7 + 1) / (3 - 1))"
   ]
  },
  {
   "cell_type": "code",
   "execution_count": null,
   "id": "e4386aad",
   "metadata": {},
   "outputs": [],
   "source": [
    "(5 - 1) * ((7 + 1) / (3 - 1)**2)"
   ]
  },
  {
   "cell_type": "code",
   "execution_count": null,
   "id": "649a76e9",
   "metadata": {},
   "outputs": [],
   "source": [
    "# paranthesis\n",
    "4 * (8/2**2)\n",
    "\n",
    "# exponents\n",
    "4* (8/4)\n",
    "4 * 2"
   ]
  },
  {
   "cell_type": "markdown",
   "id": "96fafae9",
   "metadata": {},
   "source": [
    "### precision"
   ]
  },
  {
   "cell_type": "code",
   "execution_count": 96,
   "id": "c99614d8",
   "metadata": {},
   "outputs": [
    {
     "data": {
      "text/plain": [
       "3.3333333333333335"
      ]
     },
     "execution_count": 96,
     "metadata": {},
     "output_type": "execute_result"
    }
   ],
   "source": [
    "10/3"
   ]
  },
  {
   "cell_type": "code",
   "execution_count": 97,
   "id": "4bfecebf",
   "metadata": {},
   "outputs": [
    {
     "data": {
      "text/plain": [
       "3.333"
      ]
     },
     "execution_count": 97,
     "metadata": {},
     "output_type": "execute_result"
    }
   ],
   "source": [
    "round(10/3, 3)"
   ]
  },
  {
   "cell_type": "markdown",
   "id": "3418fecb",
   "metadata": {},
   "source": [
    "### typecast"
   ]
  },
  {
   "cell_type": "code",
   "execution_count": 98,
   "id": "2f0609b8",
   "metadata": {},
   "outputs": [
    {
     "data": {
      "text/plain": [
       "int"
      ]
     },
     "execution_count": 98,
     "metadata": {},
     "output_type": "execute_result"
    }
   ],
   "source": [
    "temperature = 30\n",
    "type(temperature)"
   ]
  },
  {
   "cell_type": "code",
   "execution_count": 99,
   "id": "f669f146",
   "metadata": {},
   "outputs": [
    {
     "data": {
      "text/plain": [
       "'30'"
      ]
     },
     "execution_count": 99,
     "metadata": {},
     "output_type": "execute_result"
    }
   ],
   "source": [
    "str(temperature)"
   ]
  },
  {
   "cell_type": "code",
   "execution_count": 100,
   "id": "520aba67",
   "metadata": {},
   "outputs": [
    {
     "data": {
      "text/plain": [
       "str"
      ]
     },
     "execution_count": 100,
     "metadata": {},
     "output_type": "execute_result"
    }
   ],
   "source": [
    "str_temp = str(temperature)\n",
    "type(str_temp)"
   ]
  },
  {
   "cell_type": "code",
   "execution_count": 101,
   "id": "2004f8a3",
   "metadata": {},
   "outputs": [
    {
     "data": {
      "text/plain": [
       "30"
      ]
     },
     "execution_count": 101,
     "metadata": {},
     "output_type": "execute_result"
    }
   ],
   "source": [
    "int(str_temp)"
   ]
  },
  {
   "cell_type": "code",
   "execution_count": null,
   "id": "34b4ec33",
   "metadata": {},
   "outputs": [],
   "source": [
    "int_temp = int(str_temp)\n",
    "type(int_temp)"
   ]
  },
  {
   "cell_type": "code",
   "execution_count": 102,
   "id": "596b8cb2",
   "metadata": {},
   "outputs": [
    {
     "data": {
      "text/plain": [
       "2"
      ]
     },
     "execution_count": 102,
     "metadata": {},
     "output_type": "execute_result"
    }
   ],
   "source": [
    "# boolean can be converted to numbers\n",
    "# True becomes 1, False 0\n",
    "True + True + False"
   ]
  },
  {
   "cell_type": "code",
   "execution_count": 104,
   "id": "9c267ead",
   "metadata": {},
   "outputs": [
    {
     "data": {
      "text/plain": [
       "2"
      ]
     },
     "execution_count": 104,
     "metadata": {},
     "output_type": "execute_result"
    }
   ],
   "source": [
    "True * 2"
   ]
  },
  {
   "cell_type": "code",
   "execution_count": null,
   "id": "58fc925d",
   "metadata": {},
   "outputs": [],
   "source": [
    "True ** False"
   ]
  },
  {
   "cell_type": "code",
   "execution_count": 105,
   "id": "3aa904eb",
   "metadata": {},
   "outputs": [
    {
     "data": {
      "text/plain": [
       "False"
      ]
     },
     "execution_count": 105,
     "metadata": {},
     "output_type": "execute_result"
    }
   ],
   "source": [
    "marks = 95\n",
    "result = (marks >= 100)\n",
    "result"
   ]
  },
  {
   "cell_type": "code",
   "execution_count": 106,
   "id": "ab0c6a81",
   "metadata": {},
   "outputs": [
    {
     "data": {
      "text/plain": [
       "0"
      ]
     },
     "execution_count": 106,
     "metadata": {},
     "output_type": "execute_result"
    }
   ],
   "source": [
    "result * 2 # boolean is typecast as numeric to execute this calculation"
   ]
  },
  {
   "cell_type": "code",
   "execution_count": null,
   "id": "bb99662f",
   "metadata": {},
   "outputs": [],
   "source": []
  }
 ],
 "metadata": {
  "kernelspec": {
   "display_name": "Python 3 (ipykernel)",
   "language": "python",
   "name": "python3"
  },
  "language_info": {
   "codemirror_mode": {
    "name": "ipython",
    "version": 3
   },
   "file_extension": ".py",
   "mimetype": "text/x-python",
   "name": "python",
   "nbconvert_exporter": "python",
   "pygments_lexer": "ipython3",
   "version": "3.10.9"
  }
 },
 "nbformat": 4,
 "nbformat_minor": 5
}
