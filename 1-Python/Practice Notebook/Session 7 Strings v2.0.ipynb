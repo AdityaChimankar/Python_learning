{
 "cells": [
  {
   "cell_type": "markdown",
   "id": "a5cd6b8c",
   "metadata": {},
   "source": [
    "# String as a Sequence \n"
   ]
  },
  {
   "cell_type": "code",
   "execution_count": 11,
   "id": "bd5e8783",
   "metadata": {},
   "outputs": [
    {
     "data": {
      "text/plain": [
       "'The weather is great today'"
      ]
     },
     "execution_count": 11,
     "metadata": {},
     "output_type": "execute_result"
    }
   ],
   "source": [
    "# example of a string type value\n",
    "\"The weather is great today\""
   ]
  },
  {
   "cell_type": "code",
   "execution_count": 12,
   "id": "a38168c9",
   "metadata": {},
   "outputs": [],
   "source": [
    "# examples of string type variables\n",
    "\n",
    "gender = \"M\"\n",
    "weather = \"cloudy\"\n",
    "forecast = \"The weather is going to be great this weekend\"\n",
    "rollno = \"12\"\n",
    "prediction = \"True\""
   ]
  },
  {
   "cell_type": "code",
   "execution_count": 3,
   "id": "b8e14824",
   "metadata": {},
   "outputs": [
    {
     "data": {
      "text/plain": [
       "'this is a long string this is a long string '"
      ]
     },
     "execution_count": 3,
     "metadata": {},
     "output_type": "execute_result"
    }
   ],
   "source": [
    "\"\"\"this is a long string \\\n",
    "this is a long string \"\"\""
   ]
  },
  {
   "cell_type": "code",
   "execution_count": 60,
   "id": "3054b2cb",
   "metadata": {},
   "outputs": [],
   "source": [
    "# multiline string\n",
    "\n",
    "# instead of \" \", use three \"\"\" long string \"\"\"\n",
    "# use \\ character instead of pressing enter which will introduce a \\n in the output\n",
    "\n",
    "long_string = \"\"\"India's first Bullet Train project will be implemented by the National High Speed Rail \\\n",
    "Corporation Limited (NHSRCL), which recently sealed a deal Larsen & Toubro Limited (L&T) for design as \\\n",
    "well as the construction of about 8 kilometer long viaduct. The project has received all clearances from \\\n",
    "the Maharashtra government.\"\"\""
   ]
  },
  {
   "cell_type": "code",
   "execution_count": 61,
   "id": "95696ce4",
   "metadata": {},
   "outputs": [
    {
     "data": {
      "text/plain": [
       "\"India's first Bullet Train project will be implemented by the National High Speed Rail Corporation Limited (NHSRCL), which recently sealed a deal Larsen & Toubro Limited (L&T) for design as well as the construction of about 8 kilometer long viaduct. The project has received all clearances from the Maharashtra government.\""
      ]
     },
     "execution_count": 61,
     "metadata": {},
     "output_type": "execute_result"
    }
   ],
   "source": [
    "long_string"
   ]
  },
  {
   "cell_type": "code",
   "execution_count": 1,
   "id": "82837c4f",
   "metadata": {},
   "outputs": [],
   "source": [
    "# concatenate operator\n",
    "str1 = \"Hello\"\n",
    "str2 = \" World\"\n",
    "result = str1 + str2"
   ]
  },
  {
   "cell_type": "code",
   "execution_count": 2,
   "id": "c6365206",
   "metadata": {},
   "outputs": [
    {
     "data": {
      "text/plain": [
       "'HelloHelloHello'"
      ]
     },
     "execution_count": 2,
     "metadata": {},
     "output_type": "execute_result"
    }
   ],
   "source": [
    "# repeat operator *: Repeats a string a specified number of times.\n",
    "str1 * 3"
   ]
  },
  {
   "cell_type": "code",
   "execution_count": 3,
   "id": "d3c8fa33",
   "metadata": {},
   "outputs": [
    {
     "data": {
      "text/plain": [
       "True"
      ]
     },
     "execution_count": 3,
     "metadata": {},
     "output_type": "execute_result"
    }
   ],
   "source": [
    "# membership operator 'in': Checks if a substring exists in the string.\n",
    "'h' in 'hello'"
   ]
  },
  {
   "cell_type": "code",
   "execution_count": 1,
   "id": "c7bbd16c",
   "metadata": {},
   "outputs": [
    {
     "data": {
      "text/plain": [
       "True"
      ]
     },
     "execution_count": 1,
     "metadata": {},
     "output_type": "execute_result"
    }
   ],
   "source": [
    "\"c\" in \"cat\""
   ]
  },
  {
   "cell_type": "code",
   "execution_count": 2,
   "id": "690fd3e9",
   "metadata": {},
   "outputs": [
    {
     "data": {
      "text/plain": [
       "True"
      ]
     },
     "execution_count": 2,
     "metadata": {},
     "output_type": "execute_result"
    }
   ],
   "source": [
    "\"b\" not in \"cat\""
   ]
  },
  {
   "cell_type": "code",
   "execution_count": 13,
   "id": "87809563",
   "metadata": {},
   "outputs": [
    {
     "data": {
      "text/plain": [
       "1"
      ]
     },
     "execution_count": 13,
     "metadata": {},
     "output_type": "execute_result"
    }
   ],
   "source": [
    "# len function returns the total no of characters in a string variable\n",
    "len(gender)"
   ]
  },
  {
   "cell_type": "code",
   "execution_count": 14,
   "id": "3515b5a9",
   "metadata": {},
   "outputs": [
    {
     "data": {
      "text/plain": [
       "6"
      ]
     },
     "execution_count": 14,
     "metadata": {},
     "output_type": "execute_result"
    }
   ],
   "source": [
    "len(weather)"
   ]
  },
  {
   "cell_type": "code",
   "execution_count": 4,
   "id": "c46c03d8",
   "metadata": {},
   "outputs": [
    {
     "data": {
      "text/plain": [
       "14"
      ]
     },
     "execution_count": 4,
     "metadata": {},
     "output_type": "execute_result"
    }
   ],
   "source": [
    "# space and ! are also counted by len function\n",
    "greeting = \"Good Morning!\"\n",
    "len(greeting)"
   ]
  },
  {
   "cell_type": "code",
   "execution_count": 16,
   "id": "767b4261",
   "metadata": {},
   "outputs": [],
   "source": [
    "# Exercise\n",
    "# what is the length of \"I am fine\"?\n"
   ]
  },
  {
   "cell_type": "code",
   "execution_count": 1,
   "id": "5fe83073",
   "metadata": {},
   "outputs": [],
   "source": [
    "# Exercise\n",
    "# is it possible to have a string with length zero?\n"
   ]
  },
  {
   "cell_type": "code",
   "execution_count": 3,
   "id": "e6b53375",
   "metadata": {},
   "outputs": [],
   "source": [
    "# traversal with a loop"
   ]
  },
  {
   "cell_type": "code",
   "execution_count": 7,
   "id": "8e5b38b0",
   "metadata": {},
   "outputs": [
    {
     "name": "stdout",
     "output_type": "stream",
     "text": [
      "g\n",
      "o\n",
      "o\n",
      "d\n",
      " \n",
      "m\n",
      "o\n",
      "r\n",
      "n\n",
      "i\n",
      "n\n",
      "g\n",
      "!\n"
     ]
    }
   ],
   "source": [
    "# for loop traverses through strings one character at a time\n",
    "greeting = \"good morning!\"\n",
    "for i in greeting:\n",
    "    print(i)"
   ]
  },
  {
   "cell_type": "code",
   "execution_count": 4,
   "id": "f0c3c501",
   "metadata": {},
   "outputs": [],
   "source": [
    "# string slices"
   ]
  },
  {
   "cell_type": "code",
   "execution_count": 8,
   "id": "0fb201d8",
   "metadata": {},
   "outputs": [
    {
     "data": {
      "text/plain": [
       "6"
      ]
     },
     "execution_count": 8,
     "metadata": {},
     "output_type": "execute_result"
    }
   ],
   "source": [
    "greeting = \"hello!\"\n",
    "len(greeting)"
   ]
  },
  {
   "cell_type": "code",
   "execution_count": 25,
   "id": "f4764e7f",
   "metadata": {},
   "outputs": [
    {
     "data": {
      "text/plain": [
       "('h', 'e', 'l', 'l', 'o', '!')"
      ]
     },
     "execution_count": 25,
     "metadata": {},
     "output_type": "execute_result"
    }
   ],
   "source": [
    "# this string has 6 characters. python indexing starts at 0. So these are at positions, 0,1,2,3,4, and 5.\n",
    "greeting[0], greeting[1],greeting[2],  greeting[3], greeting[4],greeting[5]"
   ]
  },
  {
   "cell_type": "code",
   "execution_count": null,
   "id": "0d443f99",
   "metadata": {},
   "outputs": [],
   "source": [
    "# what will be the result of this?\n",
    "greeting[6]"
   ]
  },
  {
   "cell_type": "code",
   "execution_count": null,
   "id": "b0bad850",
   "metadata": {},
   "outputs": [],
   "source": [
    "#Exercises:\n",
    "topic = \"weather\"\n",
    "\n",
    "# what is the length of topic?\n",
    "# complete the following like the example below\n",
    "# weather\n",
    "# 0123456"
   ]
  },
  {
   "cell_type": "code",
   "execution_count": null,
   "id": "1f59a163",
   "metadata": {},
   "outputs": [],
   "source": [
    "# India\n",
    "#"
   ]
  },
  {
   "cell_type": "code",
   "execution_count": null,
   "id": "975f0f50",
   "metadata": {},
   "outputs": [],
   "source": [
    "# python\n",
    "#"
   ]
  },
  {
   "cell_type": "code",
   "execution_count": null,
   "id": "4dda41d2",
   "metadata": {},
   "outputs": [],
   "source": [
    "# Jet Airways\n",
    "# "
   ]
  },
  {
   "cell_type": "code",
   "execution_count": null,
   "id": "b59e0ebb",
   "metadata": {},
   "outputs": [],
   "source": [
    "# Bengaluru\n",
    "# "
   ]
  },
  {
   "cell_type": "code",
   "execution_count": 2,
   "id": "9668a717",
   "metadata": {},
   "outputs": [],
   "source": [
    "#Exercises:\n",
    "topic = \"weather\"\n",
    "# slice out the first e from topic\n"
   ]
  },
  {
   "cell_type": "code",
   "execution_count": 63,
   "id": "7ae8e8da",
   "metadata": {},
   "outputs": [],
   "source": [
    "# slice out the second e from topic\n"
   ]
  },
  {
   "cell_type": "code",
   "execution_count": null,
   "id": "798e6667",
   "metadata": {},
   "outputs": [],
   "source": [
    "# Exercises:\n",
    "\n",
    "# in each of the following slice out the letter r\n",
    "\n",
    "text = \"ring\"\n",
    "print(text[])\n",
    "\n",
    "text = \"around\"\n",
    "print(text[])\n",
    "\n",
    "text = \"world\"\n",
    "print(text[])\n",
    "\n",
    "text = \"there\"\n",
    "print(text[])\n",
    "\n",
    "text = \"desert\"\n",
    "print(text[])\n",
    "\n",
    "text = \"dessert\"\n",
    "print(text[])\n"
   ]
  },
  {
   "cell_type": "code",
   "execution_count": null,
   "id": "8c305a5e",
   "metadata": {},
   "outputs": [],
   "source": [
    "# Exercises:\n",
    "# index can be used to extract a subset of strings. [a:b] means starts at a and ends before b\n",
    "greeting = \"good morning!\"\n",
    "\n",
    "# using index subset just \"morning\" from this\n",
    "print(greeting[start:stop])\n",
    "\n",
    "# subset just \"good\" from this\n",
    "print(greeting[start:stop])\n",
    "\n",
    "# subset just the exclamation mark\n",
    "print(greeting[start:])"
   ]
  },
  {
   "cell_type": "code",
   "execution_count": 3,
   "id": "ddd62ef5",
   "metadata": {},
   "outputs": [],
   "source": [
    "# Exercise:\n",
    "# if [0:3] includes positions 0,1,2, answer the following\n",
    "# [2:6] includes positions \n",
    "# [1:5] includes positions \n",
    "# [6:10] includes positions \n",
    "# [0:1] includes positions \n",
    "# [1:1] includes positions "
   ]
  },
  {
   "cell_type": "code",
   "execution_count": null,
   "id": "b77e9328",
   "metadata": {},
   "outputs": [],
   "source": []
  },
  {
   "cell_type": "code",
   "execution_count": 68,
   "id": "56b3168a",
   "metadata": {},
   "outputs": [],
   "source": [
    "# what is the length of string extracted by [1:5]?"
   ]
  },
  {
   "cell_type": "code",
   "execution_count": null,
   "id": "c866c9a3",
   "metadata": {},
   "outputs": [],
   "source": []
  },
  {
   "cell_type": "code",
   "execution_count": 15,
   "id": "da366d72",
   "metadata": {},
   "outputs": [],
   "source": [
    "# Exercise\n",
    "# extract the o's from greeting\n",
    "greeting = \"good morning\"\n",
    "\n",
    "# good morni n g\n",
    "# 01234567891011"
   ]
  },
  {
   "cell_type": "code",
   "execution_count": null,
   "id": "05f7cadb",
   "metadata": {},
   "outputs": [],
   "source": []
  },
  {
   "cell_type": "code",
   "execution_count": 4,
   "id": "d7fe8540",
   "metadata": {},
   "outputs": [],
   "source": [
    "# Exercise:\n",
    "# extract 'good' from greeting\n"
   ]
  },
  {
   "cell_type": "markdown",
   "id": "b2a517f7",
   "metadata": {},
   "source": [
    "#### Slice from the first position"
   ]
  },
  {
   "cell_type": "code",
   "execution_count": 37,
   "id": "fc97c30a",
   "metadata": {},
   "outputs": [
    {
     "data": {
      "text/plain": [
       "('go', 'go')"
      ]
     },
     "execution_count": 37,
     "metadata": {},
     "output_type": "execute_result"
    }
   ],
   "source": [
    "# if the start index is not given it is taken as 0 by default for e.g. [0:2] is the same as [:2]\n",
    "greeting[:2], greeting[0:2]"
   ]
  },
  {
   "cell_type": "markdown",
   "id": "eb356436",
   "metadata": {},
   "source": [
    "#### slice till the last position"
   ]
  },
  {
   "cell_type": "code",
   "execution_count": 39,
   "id": "be9d5ba8",
   "metadata": {},
   "outputs": [
    {
     "data": {
      "text/plain": [
       "'od morning'"
      ]
     },
     "execution_count": 39,
     "metadata": {},
     "output_type": "execute_result"
    }
   ],
   "source": [
    "# if the end is not given it is taken as last character by default\n",
    "greeting[2:]"
   ]
  },
  {
   "cell_type": "markdown",
   "id": "b97d41f4",
   "metadata": {},
   "source": [
    "#### negative indexing"
   ]
  },
  {
   "cell_type": "code",
   "execution_count": 42,
   "id": "f41bced7",
   "metadata": {},
   "outputs": [
    {
     "data": {
      "text/plain": [
       "'g'"
      ]
     },
     "execution_count": 42,
     "metadata": {},
     "output_type": "execute_result"
    }
   ],
   "source": [
    "# this helps start counting from end. -1 is the last position, -2 is before that.\n",
    "greeting[-1] # returns the last character"
   ]
  },
  {
   "cell_type": "code",
   "execution_count": 43,
   "id": "3885e969",
   "metadata": {},
   "outputs": [
    {
     "data": {
      "text/plain": [
       "'g'"
      ]
     },
     "execution_count": 43,
     "metadata": {},
     "output_type": "execute_result"
    }
   ],
   "source": [
    "greeting[11] # returns the last character"
   ]
  },
  {
   "cell_type": "code",
   "execution_count": 45,
   "id": "fb50692a",
   "metadata": {},
   "outputs": [
    {
     "data": {
      "text/plain": [
       "('ng', 'ng')"
      ]
     },
     "execution_count": 45,
     "metadata": {},
     "output_type": "execute_result"
    }
   ],
   "source": [
    "# extract the last two characters using positive and negative indexing\n",
    "greeting[10:], greeting[-2:]"
   ]
  },
  {
   "cell_type": "code",
   "execution_count": 5,
   "id": "b368a6ac",
   "metadata": {},
   "outputs": [],
   "source": [
    "# Exercise\n",
    "# extract \"morning\" using positive and negative indexing\n"
   ]
  },
  {
   "cell_type": "code",
   "execution_count": 6,
   "id": "73127d7f",
   "metadata": {},
   "outputs": [],
   "source": [
    "# Exercise\n",
    "# extract 'go' using positive and negative indexing\n"
   ]
  },
  {
   "cell_type": "code",
   "execution_count": null,
   "id": "d715c11e",
   "metadata": {},
   "outputs": [],
   "source": []
  },
  {
   "cell_type": "code",
   "execution_count": 51,
   "id": "c2c60ef2",
   "metadata": {},
   "outputs": [],
   "source": [
    "# Exercise\n",
    "# James Bond sends his messages to M and includes his code 007 in the message.\n",
    "# His recent message was: \"AYNJ7K5H63007KBRQAPL423\"\n",
    "# Parse this string to check if 007 is in it.\n",
    "# Hint: use a loop, extract three letter sequences and compare with 007"
   ]
  },
  {
   "cell_type": "code",
   "execution_count": null,
   "id": "9cba4777",
   "metadata": {},
   "outputs": [],
   "source": []
  },
  {
   "cell_type": "code",
   "execution_count": 25,
   "id": "4297d453",
   "metadata": {},
   "outputs": [
    {
     "data": {
      "text/plain": [
       "('helloworld', 'hello world')"
      ]
     },
     "execution_count": 25,
     "metadata": {},
     "output_type": "execute_result"
    }
   ],
   "source": [
    "# concatenate a string\n",
    "a = \"hello\"\n",
    "b = \"world\"\n",
    "c = \" \"\n",
    "a + b, a + c + b"
   ]
  },
  {
   "cell_type": "code",
   "execution_count": 27,
   "id": "00ab751c",
   "metadata": {},
   "outputs": [
    {
     "data": {
      "text/plain": [
       "'world hello'"
      ]
     },
     "execution_count": 27,
     "metadata": {},
     "output_type": "execute_result"
    }
   ],
   "source": [
    "b + c + a"
   ]
  },
  {
   "cell_type": "raw",
   "id": "e780a588",
   "metadata": {},
   "source": []
  },
  {
   "cell_type": "code",
   "execution_count": 75,
   "id": "fcd045c0",
   "metadata": {},
   "outputs": [],
   "source": [
    "# Exercise\n",
    "# palindrome is a word which spells the same when reversed. For e.g. LEVEL.\n",
    "# check if RACECAR is a palindrome\n",
    "# hint: use loop to step through one letter at a time, concatenate each letter to achieve reverse of the string"
   ]
  },
  {
   "cell_type": "code",
   "execution_count": 84,
   "id": "813f235f",
   "metadata": {},
   "outputs": [],
   "source": [
    "# which of these are palindromes?\n",
    "words = ['bib', 'nun', 'civic', 'deified', 'rotator','stats','tenet']\n"
   ]
  },
  {
   "cell_type": "code",
   "execution_count": null,
   "id": "1417d081",
   "metadata": {},
   "outputs": [],
   "source": []
  },
  {
   "cell_type": "code",
   "execution_count": 50,
   "id": "981f7e75",
   "metadata": {},
   "outputs": [],
   "source": [
    "# Exercise\n",
    "# from the string \"good morning!\", remove the space and punctuation\n",
    "# output should be \"goodmorning\""
   ]
  },
  {
   "cell_type": "code",
   "execution_count": null,
   "id": "dd516e41",
   "metadata": {},
   "outputs": [],
   "source": []
  },
  {
   "cell_type": "code",
   "execution_count": 86,
   "id": "b172b363",
   "metadata": {},
   "outputs": [],
   "source": [
    "# Exercise\n",
    "# find the length of the string \"good morning\" without using len function"
   ]
  },
  {
   "cell_type": "code",
   "execution_count": null,
   "id": "6409e399",
   "metadata": {},
   "outputs": [],
   "source": []
  },
  {
   "cell_type": "code",
   "execution_count": 87,
   "id": "2f26071b",
   "metadata": {},
   "outputs": [],
   "source": [
    "# Exercise\n",
    "# parse the following text to see if it contains a URl. For simplicity, assume URL will be start with \"https://www\""
   ]
  },
  {
   "cell_type": "code",
   "execution_count": null,
   "id": "5482f47a",
   "metadata": {},
   "outputs": [],
   "source": [
    "Most web browsers display the URL of a web page above the page in an address bar. A typical URL could have the form https://www.example.com/index.html, which indicates a protocol (http), a hostname (www.example.com), and a file name (index.html)."
   ]
  },
  {
   "cell_type": "code",
   "execution_count": 13,
   "id": "b725216f",
   "metadata": {},
   "outputs": [],
   "source": [
    "text = \"Most web browsers display the URL of a web page above the page in an address bar. A typical URL could have the form HTTPS://WWW.example.com/index.html, which indicates a protocol (http), a hostname (www.example.com), and a file name (index.html).\""
   ]
  },
  {
   "cell_type": "code",
   "execution_count": 15,
   "id": "aa8da3ea",
   "metadata": {},
   "outputs": [
    {
     "data": {
      "text/plain": [
       "True"
      ]
     },
     "execution_count": 15,
     "metadata": {},
     "output_type": "execute_result"
    }
   ],
   "source": [
    "\"https://www\" in text.lower()"
   ]
  },
  {
   "cell_type": "code",
   "execution_count": 89,
   "id": "6288a1f0",
   "metadata": {},
   "outputs": [],
   "source": [
    "# Exercise:\n",
    "# Following are synonyms of awesome as given by thesaurus.com\n",
    "# Find the shortest and longest synonyms"
   ]
  },
  {
   "cell_type": "code",
   "execution_count": 90,
   "id": "e83650c6",
   "metadata": {},
   "outputs": [],
   "source": [
    "synonyms = [\"amazing\",\"astonishing\",\"astounding\",\"awe-inspiring\",\"breathtaking\",\"imposing\",\"inspiring\",\"magnificent\",\"majestic\",\"miraculous\",\"spectacular\",\"staggering\",\"stunning\",\"stupefying\",\"sublime\",\"wonderful\",\"wondrous\",\"affecting\",\"arresting\",\"august\",\"exalted\",\"formidable\",\"grand\",\"moving\",\"overwhelming\",\"shocking\",\"solemn\",\"striking\",\"daunting\",\"dreadful\",\"fearsome\",\"intimidating\",\"transcendent\"]"
   ]
  },
  {
   "cell_type": "code",
   "execution_count": null,
   "id": "6671b326",
   "metadata": {},
   "outputs": [],
   "source": []
  },
  {
   "cell_type": "code",
   "execution_count": 125,
   "id": "14a3018d",
   "metadata": {},
   "outputs": [],
   "source": [
    "# Exercise\n",
    "# remove duplicate characters from a text\n",
    "text = \"good morning\"\n",
    "\n",
    "# output should be \"god mrni\"\n",
    "\n",
    "# if text was hello world, output should be \"helo wrd\""
   ]
  },
  {
   "cell_type": "code",
   "execution_count": null,
   "id": "924c4a25",
   "metadata": {},
   "outputs": [],
   "source": []
  },
  {
   "cell_type": "code",
   "execution_count": 112,
   "id": "b041f840",
   "metadata": {},
   "outputs": [],
   "source": [
    "# vowels are a,e,i,o,u\n",
    "# check how many vowels are present in a given text"
   ]
  },
  {
   "cell_type": "code",
   "execution_count": 9,
   "id": "5505a708",
   "metadata": {},
   "outputs": [],
   "source": [
    "text = \"hello there\"\n"
   ]
  },
  {
   "cell_type": "code",
   "execution_count": 113,
   "id": "652cbda9",
   "metadata": {},
   "outputs": [],
   "source": [
    "# modify the above example to count consonants and vowels in a text. Assume the text has only english letters"
   ]
  },
  {
   "cell_type": "code",
   "execution_count": null,
   "id": "d507d9aa",
   "metadata": {},
   "outputs": [],
   "source": []
  },
  {
   "cell_type": "code",
   "execution_count": 116,
   "id": "6427d8f1",
   "metadata": {},
   "outputs": [],
   "source": [
    "# Exercise\n",
    "# compare a new string against an existing string. Example, a user has entered their password. You need to compare it against\n",
    "# the current password.\n",
    "# one method is to use == and compare the strings. another is to go through each character.\n",
    "# try both methods.\n",
    "# current password is &hyRu0876w\n",
    "# entered password is &hyru0876w"
   ]
  },
  {
   "cell_type": "code",
   "execution_count": null,
   "id": "dc89903f",
   "metadata": {},
   "outputs": [],
   "source": []
  },
  {
   "cell_type": "markdown",
   "id": "3f6ff52b",
   "metadata": {},
   "source": [
    "#### string immutability"
   ]
  },
  {
   "cell_type": "code",
   "execution_count": 40,
   "id": "f716b22a",
   "metadata": {},
   "outputs": [
    {
     "ename": "TypeError",
     "evalue": "'str' object does not support item assignment",
     "output_type": "error",
     "traceback": [
      "\u001b[1;31m---------------------------------------------------------------------------\u001b[0m",
      "\u001b[1;31mTypeError\u001b[0m                                 Traceback (most recent call last)",
      "\u001b[1;32m~\\AppData\\Local\\Temp/ipykernel_3260/69744199.py\u001b[0m in \u001b[0;36m<module>\u001b[1;34m\u001b[0m\n\u001b[0;32m      1\u001b[0m \u001b[1;31m# python does not allow individual elements to be updated. a new value can however be assigned to the variable\u001b[0m\u001b[1;33m\u001b[0m\u001b[1;33m\u001b[0m\u001b[0m\n\u001b[0;32m      2\u001b[0m \u001b[0mtext\u001b[0m \u001b[1;33m=\u001b[0m \u001b[1;34m\"this\"\u001b[0m\u001b[1;33m\u001b[0m\u001b[1;33m\u001b[0m\u001b[0m\n\u001b[1;32m----> 3\u001b[1;33m \u001b[0mtext\u001b[0m\u001b[1;33m[\u001b[0m\u001b[1;36m0\u001b[0m\u001b[1;33m]\u001b[0m \u001b[1;33m=\u001b[0m \u001b[1;34m\"T\"\u001b[0m\u001b[1;33m\u001b[0m\u001b[1;33m\u001b[0m\u001b[0m\n\u001b[0m",
      "\u001b[1;31mTypeError\u001b[0m: 'str' object does not support item assignment"
     ]
    }
   ],
   "source": [
    "# python does not allow individual elements to be updated. a new value can however be assigned to the variable\n",
    "text = \"this\"\n",
    "text[0] = \"T\""
   ]
  },
  {
   "cell_type": "code",
   "execution_count": 119,
   "id": "88613ed8",
   "metadata": {},
   "outputs": [],
   "source": [
    "text = \"This\""
   ]
  },
  {
   "cell_type": "code",
   "execution_count": 41,
   "id": "1d25bb81",
   "metadata": {},
   "outputs": [
    {
     "data": {
      "text/plain": [
       "'This'"
      ]
     },
     "execution_count": 41,
     "metadata": {},
     "output_type": "execute_result"
    }
   ],
   "source": [
    "# or\n",
    "text = \"this\"\n",
    "text = \"T\" + text[1:]\n",
    "text"
   ]
  },
  {
   "cell_type": "code",
   "execution_count": 124,
   "id": "6e2a69af",
   "metadata": {},
   "outputs": [
    {
     "name": "stdout",
     "output_type": "stream",
     "text": [
      "2086368823280\n",
      "2086373818672\n"
     ]
    }
   ],
   "source": [
    "# text is created and a new text variable is created. this is shown from the memory location.\n",
    "\n",
    "text = \"this\"\n",
    "print(id(text))\n",
    "text = \"This\"\n",
    "print(id(text))"
   ]
  },
  {
   "cell_type": "code",
   "execution_count": null,
   "id": "295d4cf2",
   "metadata": {},
   "outputs": [],
   "source": []
  },
  {
   "cell_type": "code",
   "execution_count": 43,
   "id": "9fe00528",
   "metadata": {},
   "outputs": [],
   "source": [
    "# Exercise\n",
    "# transform given text by shifting every character by a step\n",
    "# Example: given text is CROW. We shift one step right. It becomes WCRO. If repeated, it becomes OWCR.\n",
    "# Call this as Shift-Right operation. Shift-Right a given text.\n",
    "\n",
    "text = \"python\""
   ]
  },
  {
   "cell_type": "code",
   "execution_count": null,
   "id": "145a8b08",
   "metadata": {},
   "outputs": [],
   "source": []
  },
  {
   "cell_type": "markdown",
   "id": "cc6a4998",
   "metadata": {},
   "source": [
    "### string methods"
   ]
  },
  {
   "cell_type": "code",
   "execution_count": 6,
   "id": "c339694f",
   "metadata": {},
   "outputs": [
    {
     "data": {
      "text/plain": [
       "'CAT'"
      ]
     },
     "execution_count": 6,
     "metadata": {},
     "output_type": "execute_result"
    }
   ],
   "source": [
    "# upper\n",
    "\"cat\".upper()"
   ]
  },
  {
   "cell_type": "code",
   "execution_count": 7,
   "id": "ef82dc0b",
   "metadata": {},
   "outputs": [
    {
     "data": {
      "text/plain": [
       "'CAT'"
      ]
     },
     "execution_count": 7,
     "metadata": {},
     "output_type": "execute_result"
    }
   ],
   "source": [
    "pet = \"cat\"\n",
    "pet.upper()"
   ]
  },
  {
   "cell_type": "code",
   "execution_count": 7,
   "id": "a6672650",
   "metadata": {},
   "outputs": [
    {
     "data": {
      "text/plain": [
       "'all in caps'"
      ]
     },
     "execution_count": 7,
     "metadata": {},
     "output_type": "execute_result"
    }
   ],
   "source": [
    "text = \"ALL In Caps\"\n",
    "text.lower()"
   ]
  },
  {
   "cell_type": "code",
   "execution_count": 10,
   "id": "71445fed",
   "metadata": {},
   "outputs": [
    {
     "name": "stdout",
     "output_type": "stream",
     "text": [
      "wow! cats are cool\n"
     ]
    }
   ],
   "source": [
    "my_pet = \"Cat\"\n",
    "\n",
    "if my_pet.lower() == \"cat\":\n",
    "    print(\"wow! cats are cool\")"
   ]
  },
  {
   "cell_type": "code",
   "execution_count": 17,
   "id": "b2f79716",
   "metadata": {},
   "outputs": [
    {
     "data": {
      "text/plain": [
       "(False, True)"
      ]
     },
     "execution_count": 17,
     "metadata": {},
     "output_type": "execute_result"
    }
   ],
   "source": [
    "greeting = \"good morning!\"\n",
    "greeting.startswith(\"!\"), greeting.endswith(\"!\")"
   ]
  },
  {
   "cell_type": "code",
   "execution_count": 4,
   "id": "2bfd23be",
   "metadata": {},
   "outputs": [
    {
     "data": {
      "text/plain": [
       "'Hello, Python'"
      ]
     },
     "execution_count": 4,
     "metadata": {},
     "output_type": "execute_result"
    }
   ],
   "source": [
    "# str.replace(old, new): Replaces occurrences of a substring with another substring.\n",
    "str1 = \"Hello, World\"\n",
    "new_str = str1.replace(\"World\", \"Python\")\n",
    "new_str"
   ]
  },
  {
   "cell_type": "code",
   "execution_count": 5,
   "id": "0f006659",
   "metadata": {},
   "outputs": [
    {
     "data": {
      "text/plain": [
       "3"
      ]
     },
     "execution_count": 5,
     "metadata": {},
     "output_type": "execute_result"
    }
   ],
   "source": [
    "# count of character in a string\n",
    "str1 = \"Hello, World\"\n",
    "count = str1.count(\"l\")\n",
    "count"
   ]
  },
  {
   "cell_type": "code",
   "execution_count": 7,
   "id": "35c82c11",
   "metadata": {},
   "outputs": [
    {
     "data": {
      "text/plain": [
       "(7, -1)"
      ]
     },
     "execution_count": 7,
     "metadata": {},
     "output_type": "execute_result"
    }
   ],
   "source": [
    "# str.find(sub): Returns the lowest index of the first occurrence of a substring. Returns -1 if not found\n",
    "str1 = \"Hello, World\"\n",
    "index_world = str1.find(\"World\")\n",
    "index_earth = str1.find(\"Earth\")\n",
    "index_world, index_earth"
   ]
  },
  {
   "cell_type": "code",
   "execution_count": 8,
   "id": "26364f81",
   "metadata": {},
   "outputs": [
    {
     "data": {
      "text/plain": [
       "['apple', 'banana', 'orange']"
      ]
     },
     "execution_count": 8,
     "metadata": {},
     "output_type": "execute_result"
    }
   ],
   "source": [
    "# str.split(sep): Splits the string into a list of substrings based on a specified delimiter.\n",
    "str1 = \"apple,banana,orange\"\n",
    "str_list = str1.split(\",\")\n",
    "str_list"
   ]
  },
  {
   "cell_type": "code",
   "execution_count": 9,
   "id": "540f6f22",
   "metadata": {},
   "outputs": [
    {
     "data": {
      "text/plain": [
       "'Hello'"
      ]
     },
     "execution_count": 9,
     "metadata": {},
     "output_type": "execute_result"
    }
   ],
   "source": [
    "# str.strip(): Removes leading and trailing whitespaces from the string.\n",
    "str1 = \"   Hello   \"\n",
    "stripped_str = str1.strip()\n",
    "stripped_str"
   ]
  },
  {
   "cell_type": "code",
   "execution_count": 11,
   "id": "bfdec9fd",
   "metadata": {},
   "outputs": [],
   "source": [
    "# there are many more interesting methods to explore\n",
    "# https://www.w3schools.com/python/python_ref_string.asp"
   ]
  },
  {
   "cell_type": "raw",
   "id": "c993f37b",
   "metadata": {},
   "source": [
    "# Exercise\n",
    "original_str = \"python is fun and Python is powerful\"\n",
    "\n",
    "# Your task:\n",
    "# 1. Convert the entire string to uppercase.\n",
    "# 2. Replace all occurrences of \"Python\" with \"programming\".\n",
    "\n",
    "# Expected output:\n",
    "# \"PYTHON IS FUN AND programming IS POWERFUL\""
   ]
  },
  {
   "cell_type": "code",
   "execution_count": null,
   "id": "7945c360",
   "metadata": {},
   "outputs": [],
   "source": []
  },
  {
   "cell_type": "code",
   "execution_count": 10,
   "id": "b9b4d257",
   "metadata": {},
   "outputs": [],
   "source": [
    "# Exercise:\n",
    "# Split the given string and count the occurrences of a specific substring.\n",
    "\n",
    "# sentence = \"apple, banana, orange, banana, apple, grape, banana\"\n",
    "\n",
    "# Your task:\n",
    "# 1. Split the sentence into a list of fruits.\n",
    "# 2. Count the no of fruits in the list\n",
    "# 3. Count the number of occurrences of the word \"banana\".\n",
    "\n",
    "# Expected output:\n",
    "# List of fruits: ['apple', ' banana', ' orange', ' banana', ' apple', ' grape', ' banana']\n",
    "# Count of 'banana': 3"
   ]
  },
  {
   "cell_type": "code",
   "execution_count": null,
   "id": "ed5fdfec",
   "metadata": {},
   "outputs": [],
   "source": []
  }
 ],
 "metadata": {
  "kernelspec": {
   "display_name": "Python 3 (ipykernel)",
   "language": "python",
   "name": "python3"
  },
  "language_info": {
   "codemirror_mode": {
    "name": "ipython",
    "version": 3
   },
   "file_extension": ".py",
   "mimetype": "text/x-python",
   "name": "python",
   "nbconvert_exporter": "python",
   "pygments_lexer": "ipython3",
   "version": "3.10.9"
  }
 },
 "nbformat": 4,
 "nbformat_minor": 5
}
