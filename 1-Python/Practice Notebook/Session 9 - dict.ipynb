{
 "cells": [
  {
   "cell_type": "raw",
   "id": "89f801f6",
   "metadata": {},
   "source": [
    "https://www.w3schools.com/python/python_dictionaries.asp\n",
    "A dictionary is a collection which is unordered, changeable and indexed. \n",
    "In Python dictionaries are written with curly brackets, and they have keys and values."
   ]
  },
  {
   "cell_type": "code",
   "execution_count": 1,
   "id": "2ae40b4d",
   "metadata": {},
   "outputs": [],
   "source": [
    "Dict = {}"
   ]
  },
  {
   "cell_type": "code",
   "execution_count": 2,
   "id": "cdc96476",
   "metadata": {},
   "outputs": [
    {
     "data": {
      "text/plain": [
       "dict"
      ]
     },
     "execution_count": 2,
     "metadata": {},
     "output_type": "execute_result"
    }
   ],
   "source": [
    "type(Dict)"
   ]
  },
  {
   "cell_type": "code",
   "execution_count": 3,
   "id": "487bc278",
   "metadata": {},
   "outputs": [
    {
     "name": "stdout",
     "output_type": "stream",
     "text": [
      "Empty Dictionary: \n",
      "{}\n"
     ]
    }
   ],
   "source": [
    "print(\"Empty Dictionary: \")\n",
    "print(Dict)"
   ]
  },
  {
   "cell_type": "code",
   "execution_count": 4,
   "id": "9e357272",
   "metadata": {},
   "outputs": [],
   "source": [
    "genders = {0:'F',1:'M'}"
   ]
  },
  {
   "cell_type": "code",
   "execution_count": 5,
   "id": "6f29198f",
   "metadata": {},
   "outputs": [
    {
     "data": {
      "text/plain": [
       "dict"
      ]
     },
     "execution_count": 5,
     "metadata": {},
     "output_type": "execute_result"
    }
   ],
   "source": [
    "type(genders)"
   ]
  },
  {
   "cell_type": "code",
   "execution_count": 6,
   "id": "172288df",
   "metadata": {},
   "outputs": [
    {
     "data": {
      "text/plain": [
       "{0: 'F', 1: 'M'}"
      ]
     },
     "execution_count": 6,
     "metadata": {},
     "output_type": "execute_result"
    }
   ],
   "source": [
    "genders"
   ]
  },
  {
   "cell_type": "code",
   "execution_count": 10,
   "id": "a72f3b85",
   "metadata": {},
   "outputs": [
    {
     "name": "stdout",
     "output_type": "stream",
     "text": [
      "\n",
      "Dictionary with each item as a pair: \n",
      "{100: 'F', 1: 'M'}\n"
     ]
    }
   ],
   "source": [
    "# one more way of creating a dictionary\n",
    "# with each item as a Pair\n",
    "genders = dict([(100, 'F'), (1, 'M')])\n",
    "print(\"\\nDictionary with each item as a pair: \")\n",
    "print(genders)"
   ]
  },
  {
   "cell_type": "code",
   "execution_count": 11,
   "id": "f2dc2acc",
   "metadata": {},
   "outputs": [
    {
     "data": {
      "text/plain": [
       "'F'"
      ]
     },
     "execution_count": 11,
     "metadata": {},
     "output_type": "execute_result"
    }
   ],
   "source": [
    "genders[100]"
   ]
  },
  {
   "cell_type": "code",
   "execution_count": 9,
   "id": "6f5ea7bc",
   "metadata": {},
   "outputs": [
    {
     "data": {
      "text/plain": [
       "'M'"
      ]
     },
     "execution_count": 9,
     "metadata": {},
     "output_type": "execute_result"
    }
   ],
   "source": [
    "genders[1]"
   ]
  },
  {
   "cell_type": "code",
   "execution_count": 20,
   "id": "b9f7cc7f",
   "metadata": {},
   "outputs": [
    {
     "data": {
      "text/plain": [
       "int"
      ]
     },
     "execution_count": 20,
     "metadata": {},
     "output_type": "execute_result"
    }
   ],
   "source": [
    "genders = {0:'F','M':1}\n",
    "type(genders['M'])"
   ]
  },
  {
   "cell_type": "code",
   "execution_count": 12,
   "id": "a5a5a1a2",
   "metadata": {},
   "outputs": [
    {
     "name": "stdout",
     "output_type": "stream",
     "text": [
      "\n",
      "Dictionary with the use of Mixed Keys: \n",
      "{'Country': 'India', 1: [1, 9, 4, 7]}\n"
     ]
    }
   ],
   "source": [
    "# Creating a Dictionary with Mixed keys\n",
    "Dict = {'Country': 'India', 1: [1, 9, 4, 7]}\n",
    "print(\"\\nDictionary with the use of Mixed Keys: \")\n",
    "print(Dict)"
   ]
  },
  {
   "cell_type": "code",
   "execution_count": null,
   "id": "68f6ed3b",
   "metadata": {},
   "outputs": [],
   "source": [
    "Dict['Country']"
   ]
  },
  {
   "cell_type": "code",
   "execution_count": 14,
   "id": "dcc57a21",
   "metadata": {},
   "outputs": [
    {
     "data": {
      "text/plain": [
       "[1, 9, 4, 7]"
      ]
     },
     "execution_count": 14,
     "metadata": {},
     "output_type": "execute_result"
    }
   ],
   "source": [
    "Dict[1]"
   ]
  },
  {
   "cell_type": "code",
   "execution_count": 22,
   "id": "f51ab682",
   "metadata": {},
   "outputs": [],
   "source": [
    "# dictionary is a very useful data type\n",
    "products = {'Modelname':['AA','BB','CC'], 'MakeYear':[2014,2015,2016]}"
   ]
  },
  {
   "cell_type": "code",
   "execution_count": 16,
   "id": "99540dbf",
   "metadata": {},
   "outputs": [
    {
     "data": {
      "text/plain": [
       "dict"
      ]
     },
     "execution_count": 16,
     "metadata": {},
     "output_type": "execute_result"
    }
   ],
   "source": [
    "type(products)\n",
    "# in this dict object, Modelname and MakeYear are the \"Keys\", the data linked to them as the \"Values\""
   ]
  },
  {
   "cell_type": "code",
   "execution_count": 17,
   "id": "5bd58cfe",
   "metadata": {},
   "outputs": [
    {
     "data": {
      "text/plain": [
       "{'Modelname': ['AA', 'BB', 'CC'], 'MakeYear': [2014, 2015, 2016]}"
      ]
     },
     "execution_count": 17,
     "metadata": {},
     "output_type": "execute_result"
    }
   ],
   "source": [
    "products"
   ]
  },
  {
   "cell_type": "code",
   "execution_count": 24,
   "id": "365cb01e",
   "metadata": {},
   "outputs": [
    {
     "data": {
      "text/plain": [
       "['AA', 'BB', 'CC']"
      ]
     },
     "execution_count": 24,
     "metadata": {},
     "output_type": "execute_result"
    }
   ],
   "source": [
    "# accessing specific items. Here value of Modelname. The output is a list.\n",
    "products[\"Modelname\"]"
   ]
  },
  {
   "cell_type": "code",
   "execution_count": 19,
   "id": "d9f90d8f",
   "metadata": {},
   "outputs": [
    {
     "data": {
      "text/plain": [
       "list"
      ]
     },
     "execution_count": 19,
     "metadata": {},
     "output_type": "execute_result"
    }
   ],
   "source": [
    "type(products[\"Modelname\"])"
   ]
  },
  {
   "cell_type": "code",
   "execution_count": 23,
   "id": "da3caed5",
   "metadata": {},
   "outputs": [
    {
     "data": {
      "text/plain": [
       "['AA', 'BB', 'CC']"
      ]
     },
     "execution_count": 23,
     "metadata": {},
     "output_type": "execute_result"
    }
   ],
   "source": [
    "# or using get() method\n",
    "products.get(\"Modelname\")"
   ]
  },
  {
   "cell_type": "code",
   "execution_count": null,
   "id": "92a68979",
   "metadata": {},
   "outputs": [],
   "source": [
    "# accessing particular element using index as we would for a list\n",
    "products[\"Modelname\"][0]"
   ]
  },
  {
   "cell_type": "code",
   "execution_count": null,
   "id": "a90f50c3",
   "metadata": {},
   "outputs": [],
   "source": [
    "# update an element\n",
    "products[\"MakeYear\"][0] = 2013\n",
    "products"
   ]
  },
  {
   "cell_type": "code",
   "execution_count": 21,
   "id": "8ed67bc8",
   "metadata": {},
   "outputs": [
    {
     "data": {
      "text/plain": [
       "int"
      ]
     },
     "execution_count": 21,
     "metadata": {},
     "output_type": "execute_result"
    }
   ],
   "source": [
    "type(products[\"MakeYear\"][0] )"
   ]
  },
  {
   "cell_type": "code",
   "execution_count": 25,
   "id": "0420778f",
   "metadata": {},
   "outputs": [],
   "source": [
    "# dictionary is a very useful data type\n",
    "products = {'Modelname':['AA','BB','CC'], 'MakeYear':[2014,2015,2016]}"
   ]
  },
  {
   "cell_type": "code",
   "execution_count": 26,
   "id": "c3326cdd",
   "metadata": {},
   "outputs": [
    {
     "name": "stdout",
     "output_type": "stream",
     "text": [
      "Modelname\n",
      "MakeYear\n"
     ]
    }
   ],
   "source": [
    "# Print all key names in the dictionary, one by one\n",
    "for j in products:\n",
    "    print(j)"
   ]
  },
  {
   "cell_type": "code",
   "execution_count": 27,
   "id": "147bc3e3",
   "metadata": {},
   "outputs": [
    {
     "name": "stdout",
     "output_type": "stream",
     "text": [
      "['AA', 'BB', 'CC']\n",
      "[2014, 2015, 2016]\n"
     ]
    }
   ],
   "source": [
    "# print the values for each key in the dictionary, one by one\n",
    "for j in products:\n",
    "    print(products[j])"
   ]
  },
  {
   "cell_type": "code",
   "execution_count": 28,
   "id": "398b126b",
   "metadata": {},
   "outputs": [
    {
     "data": {
      "text/plain": [
       "dict_values([['AA', 'BB', 'CC'], [2014, 2015, 2016]])"
      ]
     },
     "execution_count": 28,
     "metadata": {},
     "output_type": "execute_result"
    }
   ],
   "source": [
    "# values method enumerates all the key-value pairs\n",
    "products.values()"
   ]
  },
  {
   "cell_type": "code",
   "execution_count": 29,
   "id": "43d7ca85",
   "metadata": {},
   "outputs": [
    {
     "name": "stdout",
     "output_type": "stream",
     "text": [
      "['AA', 'BB', 'CC']\n",
      "[2014, 2015, 2016]\n"
     ]
    }
   ],
   "source": [
    "# parse them one by one\n",
    "for j in products.values():\n",
    "    print(j)\n",
    "#    break"
   ]
  },
  {
   "cell_type": "code",
   "execution_count": null,
   "id": "65e25cc2",
   "metadata": {},
   "outputs": [],
   "source": [
    "# parse them one by one\n",
    "for j in products.values():\n",
    "    print(j)"
   ]
  },
  {
   "cell_type": "code",
   "execution_count": 32,
   "id": "90c3aa7d",
   "metadata": {},
   "outputs": [],
   "source": [
    "# dictionary is a very useful data type\n",
    "products = {'Modelname':['AA','BB','CC'], 'MakeYear':[2014,2015,2016,2017]}"
   ]
  },
  {
   "cell_type": "code",
   "execution_count": 33,
   "id": "8928c143",
   "metadata": {},
   "outputs": [
    {
     "data": {
      "text/plain": [
       "dict_items([('Modelname', ['AA', 'BB', 'CC']), ('MakeYear', [2014, 2015, 2016, 2017])])"
      ]
     },
     "execution_count": 33,
     "metadata": {},
     "output_type": "execute_result"
    }
   ],
   "source": [
    "products.items()"
   ]
  },
  {
   "cell_type": "code",
   "execution_count": 35,
   "id": "f287c8c8",
   "metadata": {},
   "outputs": [
    {
     "name": "stdout",
     "output_type": "stream",
     "text": [
      "Modelname ['AA', 'BB', 'CC']\n"
     ]
    }
   ],
   "source": [
    "# print both keys and values using items() method\n",
    "for i,j in products.items():\n",
    "    print(i,j)\n",
    "#    break"
   ]
  },
  {
   "cell_type": "code",
   "execution_count": null,
   "id": "f76ae06a",
   "metadata": {},
   "outputs": [],
   "source": [
    "# print both keys and values using items() method\n",
    "for i,j in products.items():\n",
    "    print(i,j)\n",
    "    break"
   ]
  },
  {
   "cell_type": "code",
   "execution_count": 37,
   "id": "03241688",
   "metadata": {},
   "outputs": [
    {
     "data": {
      "text/plain": [
       "{'Modelname': ['AA', 'BB', 'CC'], 'MakeYear': [2014, 2015, 2016, 2017]}"
      ]
     },
     "execution_count": 37,
     "metadata": {},
     "output_type": "execute_result"
    }
   ],
   "source": [
    "products"
   ]
  },
  {
   "cell_type": "code",
   "execution_count": 39,
   "id": "c5712c19",
   "metadata": {},
   "outputs": [
    {
     "data": {
      "text/plain": [
       "False"
      ]
     },
     "execution_count": 39,
     "metadata": {},
     "output_type": "execute_result"
    }
   ],
   "source": [
    "k = \"AA\"\n",
    "k in products"
   ]
  },
  {
   "cell_type": "code",
   "execution_count": 36,
   "id": "3af4d653",
   "metadata": {},
   "outputs": [
    {
     "name": "stdout",
     "output_type": "stream",
     "text": [
      "Yes Modelname is a key\n"
     ]
    }
   ],
   "source": [
    "# check if a key exists in the dictionary\n",
    "k = \"Modelname\"\n",
    "if k in products:\n",
    "    print(\"Yes \" + k + \" is a key\")\n",
    "else:\n",
    "    print(\"No \" + k + \" is not a key\")"
   ]
  },
  {
   "cell_type": "code",
   "execution_count": 40,
   "id": "846bc1cc",
   "metadata": {},
   "outputs": [
    {
     "data": {
      "text/plain": [
       "2"
      ]
     },
     "execution_count": 40,
     "metadata": {},
     "output_type": "execute_result"
    }
   ],
   "source": [
    "# len of the dict object gives the count of keys\n",
    "len(products)"
   ]
  },
  {
   "cell_type": "code",
   "execution_count": null,
   "id": "ddb9ced5",
   "metadata": {},
   "outputs": [],
   "source": [
    "# basic dict operations"
   ]
  },
  {
   "cell_type": "code",
   "execution_count": 55,
   "id": "045ba10c",
   "metadata": {},
   "outputs": [
    {
     "data": {
      "text/plain": [
       "dict"
      ]
     },
     "execution_count": 55,
     "metadata": {},
     "output_type": "execute_result"
    }
   ],
   "source": [
    "abc = {} # empty\n",
    "type(abc)"
   ]
  },
  {
   "cell_type": "code",
   "execution_count": 58,
   "id": "cc6af14a",
   "metadata": {},
   "outputs": [],
   "source": [
    "### here 0 is key, 'A' is value\n",
    "abc['August'] = 8"
   ]
  },
  {
   "cell_type": "code",
   "execution_count": 59,
   "id": "2052f482",
   "metadata": {},
   "outputs": [
    {
     "data": {
      "text/plain": [
       "{'August': 8}"
      ]
     },
     "execution_count": 59,
     "metadata": {},
     "output_type": "execute_result"
    }
   ],
   "source": [
    "abc"
   ]
  },
  {
   "cell_type": "code",
   "execution_count": 31,
   "id": "f5a66aad",
   "metadata": {},
   "outputs": [],
   "source": [
    "# few more additions\n",
    "abc[1] = 'B'\n",
    "abc[2] = 'C'"
   ]
  },
  {
   "cell_type": "code",
   "execution_count": 32,
   "id": "fc90452b",
   "metadata": {},
   "outputs": [
    {
     "data": {
      "text/plain": [
       "{1: 'B', 2: 'C', 3: 'C', 4: 'D', 0: 'A'}"
      ]
     },
     "execution_count": 32,
     "metadata": {},
     "output_type": "execute_result"
    }
   ],
   "source": [
    "abc"
   ]
  },
  {
   "cell_type": "code",
   "execution_count": 33,
   "id": "32646462",
   "metadata": {},
   "outputs": [],
   "source": [
    "abc['D'] = 4"
   ]
  },
  {
   "cell_type": "code",
   "execution_count": 34,
   "id": "603001e7",
   "metadata": {},
   "outputs": [
    {
     "data": {
      "text/plain": [
       "{1: 'B', 2: 'C', 3: 'C', 4: 'D', 0: 'A', 'D': 4}"
      ]
     },
     "execution_count": 34,
     "metadata": {},
     "output_type": "execute_result"
    }
   ],
   "source": [
    "abc"
   ]
  },
  {
   "cell_type": "code",
   "execution_count": 35,
   "id": "f910b0e4",
   "metadata": {},
   "outputs": [],
   "source": [
    "# uh oh. Got swapped. How do we correct this?\n",
    "# first delete it\n",
    "del abc['D']"
   ]
  },
  {
   "cell_type": "code",
   "execution_count": 36,
   "id": "cceee70e",
   "metadata": {},
   "outputs": [],
   "source": [
    "# now add proper one\n",
    "abc[4] = 'D'"
   ]
  },
  {
   "cell_type": "code",
   "execution_count": 37,
   "id": "262a5341",
   "metadata": {},
   "outputs": [
    {
     "data": {
      "text/plain": [
       "{1: 'B', 2: 'C', 3: 'C', 4: 'D', 0: 'A'}"
      ]
     },
     "execution_count": 37,
     "metadata": {},
     "output_type": "execute_result"
    }
   ],
   "source": [
    "abc"
   ]
  },
  {
   "cell_type": "code",
   "execution_count": 38,
   "id": "35cebabb",
   "metadata": {},
   "outputs": [
    {
     "data": {
      "text/plain": [
       "{1: 'A', 2: 'B', 3: 'C', 'D': 4}"
      ]
     },
     "execution_count": 38,
     "metadata": {},
     "output_type": "execute_result"
    }
   ],
   "source": [
    "# can we update a key?\n",
    "# dict([(0, 'F'), (1, 'M')])\n",
    "abc = dict([(1,'A'),(2,'B'),(3,'C'),('D',4)])\n",
    "abc"
   ]
  },
  {
   "cell_type": "code",
   "execution_count": 39,
   "id": "382b2883",
   "metadata": {},
   "outputs": [],
   "source": [
    "# changing keys of dictionary\n",
    "\n",
    "# remove 'D' and return the value 'D' initially had\n",
    "abc[4] = abc.pop('D')"
   ]
  },
  {
   "cell_type": "code",
   "execution_count": 40,
   "id": "0ef34f9f",
   "metadata": {},
   "outputs": [
    {
     "data": {
      "text/plain": [
       "{1: 'A', 2: 'B', 3: 'C', 4: 4}"
      ]
     },
     "execution_count": 40,
     "metadata": {},
     "output_type": "execute_result"
    }
   ],
   "source": [
    "abc"
   ]
  },
  {
   "cell_type": "code",
   "execution_count": 41,
   "id": "90a423ed",
   "metadata": {},
   "outputs": [],
   "source": [
    "# can we update a value for a given key?\n",
    "abc[4] = 'D'"
   ]
  },
  {
   "cell_type": "code",
   "execution_count": 42,
   "id": "3465078a",
   "metadata": {},
   "outputs": [
    {
     "data": {
      "text/plain": [
       "{1: 'A', 2: 'B', 3: 'C', 4: 'D'}"
      ]
     },
     "execution_count": 42,
     "metadata": {},
     "output_type": "execute_result"
    }
   ],
   "source": [
    "# this seems all fixed\n",
    "abc"
   ]
  },
  {
   "cell_type": "code",
   "execution_count": 43,
   "id": "5bdeb189",
   "metadata": {},
   "outputs": [
    {
     "name": "stdout",
     "output_type": "stream",
     "text": [
      "1\n",
      "2\n",
      "3\n",
      "4\n"
     ]
    }
   ],
   "source": [
    "# each iteration of this loop corresponds to the keys\n",
    "for i in abc:\n",
    "    print(i)"
   ]
  },
  {
   "cell_type": "code",
   "execution_count": 44,
   "id": "c574acd1",
   "metadata": {},
   "outputs": [
    {
     "name": "stdout",
     "output_type": "stream",
     "text": [
      "A\n",
      "B\n",
      "C\n",
      "D\n"
     ]
    }
   ],
   "source": [
    "# using the keys, access their values\n",
    "for i in abc:\n",
    "    print(abc[i])"
   ]
  },
  {
   "cell_type": "code",
   "execution_count": 45,
   "id": "328f7b60",
   "metadata": {},
   "outputs": [
    {
     "data": {
      "text/plain": [
       "dict_items([(1, 'A'), (2, 'B'), (3, 'C'), (4, 'D')])"
      ]
     },
     "execution_count": 45,
     "metadata": {},
     "output_type": "execute_result"
    }
   ],
   "source": [
    "abc.items()"
   ]
  },
  {
   "cell_type": "code",
   "execution_count": 46,
   "id": "c8c3c2cb",
   "metadata": {},
   "outputs": [
    {
     "name": "stdout",
     "output_type": "stream",
     "text": [
      "1 A\n",
      "2 B\n",
      "3 C\n",
      "4 D\n"
     ]
    }
   ],
   "source": [
    "for i,j in abc.items():\n",
    "    print(i,j)"
   ]
  },
  {
   "cell_type": "code",
   "execution_count": 47,
   "id": "3ce7b90c",
   "metadata": {},
   "outputs": [
    {
     "data": {
      "text/plain": [
       "False"
      ]
     },
     "execution_count": 47,
     "metadata": {},
     "output_type": "execute_result"
    }
   ],
   "source": [
    "'D' in abc"
   ]
  },
  {
   "cell_type": "code",
   "execution_count": 48,
   "id": "0d63166f",
   "metadata": {},
   "outputs": [
    {
     "data": {
      "text/plain": [
       "True"
      ]
     },
     "execution_count": 48,
     "metadata": {},
     "output_type": "execute_result"
    }
   ],
   "source": [
    "# check if 'D' is one of the values in abc\n",
    "'D' in abc.values()"
   ]
  },
  {
   "cell_type": "code",
   "execution_count": 49,
   "id": "5488e863",
   "metadata": {},
   "outputs": [
    {
     "name": "stdout",
     "output_type": "stream",
     "text": [
      "1\n",
      "2\n",
      "3\n",
      "4\n"
     ]
    }
   ],
   "source": [
    "for i in abc:\n",
    "    print(i)"
   ]
  },
  {
   "cell_type": "code",
   "execution_count": 50,
   "id": "ed152ae1",
   "metadata": {},
   "outputs": [
    {
     "name": "stdout",
     "output_type": "stream",
     "text": [
      "3\n"
     ]
    }
   ],
   "source": [
    "# get the key for a given value\n",
    "seeking = 'C'\n",
    "for i in abc:\n",
    "    if abc[i] == seeking:\n",
    "        print(i)"
   ]
  },
  {
   "cell_type": "code",
   "execution_count": 51,
   "id": "0a2cd5a1",
   "metadata": {},
   "outputs": [
    {
     "data": {
      "text/plain": [
       "dict_items([(1, 'A'), (2, 'B'), (3, 'C'), (4, 'D')])"
      ]
     },
     "execution_count": 51,
     "metadata": {},
     "output_type": "execute_result"
    }
   ],
   "source": [
    "# items() method\n",
    "abc.items()"
   ]
  },
  {
   "cell_type": "code",
   "execution_count": 52,
   "id": "3e02450a",
   "metadata": {},
   "outputs": [
    {
     "name": "stdout",
     "output_type": "stream",
     "text": [
      "(1, 'A')\n",
      "(2, 'B')\n",
      "(3, 'C')\n",
      "(4, 'D')\n"
     ]
    }
   ],
   "source": [
    "for i in abc.items():\n",
    "    print(i)"
   ]
  },
  {
   "cell_type": "code",
   "execution_count": 57,
   "id": "c4f008d5",
   "metadata": {},
   "outputs": [
    {
     "data": {
      "text/plain": [
       "dict_values(['A', 'B', 'C', 'D'])"
      ]
     },
     "execution_count": 57,
     "metadata": {},
     "output_type": "execute_result"
    }
   ],
   "source": [
    "# values() method\n",
    "abc.values()"
   ]
  },
  {
   "cell_type": "code",
   "execution_count": 85,
   "id": "2c1c5b58",
   "metadata": {},
   "outputs": [
    {
     "name": "stdout",
     "output_type": "stream",
     "text": [
      "A\n",
      "B\n",
      "C\n",
      "D\n"
     ]
    }
   ],
   "source": [
    "# values() method\n",
    "for i in abc.values():\n",
    "    print(i)"
   ]
  },
  {
   "cell_type": "code",
   "execution_count": 86,
   "id": "6735089d",
   "metadata": {},
   "outputs": [
    {
     "data": {
      "text/plain": [
       "dict_keys([1, 2, 3, 4])"
      ]
     },
     "execution_count": 86,
     "metadata": {},
     "output_type": "execute_result"
    }
   ],
   "source": [
    "# keys() method\n",
    "abc.keys()"
   ]
  },
  {
   "cell_type": "code",
   "execution_count": 87,
   "id": "201a3dc5",
   "metadata": {},
   "outputs": [
    {
     "name": "stdout",
     "output_type": "stream",
     "text": [
      "1\n",
      "2\n",
      "3\n",
      "4\n"
     ]
    }
   ],
   "source": [
    "for i in abc.keys():\n",
    "    print(i)"
   ]
  },
  {
   "cell_type": "code",
   "execution_count": null,
   "id": "7fa8eb3d",
   "metadata": {},
   "outputs": [],
   "source": []
  },
  {
   "cell_type": "code",
   "execution_count": 143,
   "id": "b9790a2f",
   "metadata": {},
   "outputs": [
    {
     "data": {
      "text/plain": [
       "'B'"
      ]
     },
     "execution_count": 143,
     "metadata": {},
     "output_type": "execute_result"
    }
   ],
   "source": [
    "max(dict([('B',45000),('A',75000)]))"
   ]
  },
  {
   "cell_type": "code",
   "execution_count": 90,
   "id": "d2e2ba92",
   "metadata": {},
   "outputs": [],
   "source": [
    "# adding power of numpy\n",
    "import numpy as np"
   ]
  },
  {
   "cell_type": "code",
   "execution_count": 146,
   "id": "6b958ebb",
   "metadata": {},
   "outputs": [],
   "source": [
    "# some iPhone brands and prices\n",
    "inventory = dict([('3G',45000),('X',75000),('XR',85000),('XS',95000)])"
   ]
  },
  {
   "cell_type": "code",
   "execution_count": 149,
   "id": "0147dcde",
   "metadata": {},
   "outputs": [
    {
     "data": {
      "text/plain": [
       "95000"
      ]
     },
     "execution_count": 149,
     "metadata": {},
     "output_type": "execute_result"
    }
   ],
   "source": [
    "max(inventory.values())"
   ]
  },
  {
   "cell_type": "code",
   "execution_count": null,
   "id": "600d9024",
   "metadata": {},
   "outputs": [],
   "source": [
    "# we can convert this into np array, that gives access to several other methods"
   ]
  },
  {
   "cell_type": "code",
   "execution_count": 100,
   "id": "edeac188",
   "metadata": {},
   "outputs": [
    {
     "data": {
      "text/plain": [
       "array(dict_values([45000, 75000, 85000, 95000]), dtype=object)"
      ]
     },
     "execution_count": 100,
     "metadata": {},
     "output_type": "execute_result"
    }
   ],
   "source": [
    "# this is not getting the job done.\n",
    "np.array(inventory.values())"
   ]
  },
  {
   "cell_type": "code",
   "execution_count": 150,
   "id": "3448d1b9",
   "metadata": {},
   "outputs": [
    {
     "data": {
      "text/plain": [
       "dict_values([45000, 75000, 85000, 95000])"
      ]
     },
     "execution_count": 150,
     "metadata": {},
     "output_type": "execute_result"
    }
   ],
   "source": [
    "# for e.g. sum won't work as we expect yet.\n",
    "np.sum(np.array(inventory.values()))"
   ]
  },
  {
   "cell_type": "code",
   "execution_count": 151,
   "id": "6f07c9fc",
   "metadata": {},
   "outputs": [
    {
     "data": {
      "text/plain": [
       "[45000, 75000, 85000, 95000]"
      ]
     },
     "execution_count": 151,
     "metadata": {},
     "output_type": "execute_result"
    }
   ],
   "source": [
    "list(inventory.values())"
   ]
  },
  {
   "cell_type": "code",
   "execution_count": 152,
   "id": "3f9728f7",
   "metadata": {},
   "outputs": [
    {
     "data": {
      "text/plain": [
       "array([45000, 75000, 85000, 95000])"
      ]
     },
     "execution_count": 152,
     "metadata": {},
     "output_type": "execute_result"
    }
   ],
   "source": [
    "# this does. using list() results in just the values extracted and then np.array() finishes the conversion.\n",
    "np.array(list(inventory.values()))"
   ]
  },
  {
   "cell_type": "code",
   "execution_count": 103,
   "id": "4f7b8d0e",
   "metadata": {},
   "outputs": [
    {
     "data": {
      "text/plain": [
       "300000"
      ]
     },
     "execution_count": 103,
     "metadata": {},
     "output_type": "execute_result"
    }
   ],
   "source": [
    "np.sum(np.array(list(inventory.values())))"
   ]
  },
  {
   "cell_type": "code",
   "execution_count": 26,
   "id": "ec8f9f51",
   "metadata": {},
   "outputs": [],
   "source": [
    "# Exercises"
   ]
  },
  {
   "cell_type": "code",
   "execution_count": 39,
   "id": "41129085",
   "metadata": {},
   "outputs": [],
   "source": [
    "# create a dict variable called PBS with 1,2,3 as keys and Praxis Business and School as three values\n",
    "# Display each value by using individual keys"
   ]
  },
  {
   "cell_type": "code",
   "execution_count": 40,
   "id": "684d9fe5",
   "metadata": {},
   "outputs": [],
   "source": [
    "# create a dict variable called ABC with 1,2,3 as keys and A, B, C as three values\n",
    "# Display each value by using individual keys"
   ]
  },
  {
   "cell_type": "code",
   "execution_count": 41,
   "id": "0aad8ae4",
   "metadata": {},
   "outputs": [],
   "source": [
    "# create a dict variable with A,2,3 as keys and 1, B, C as three values\n",
    "# Display each value by using individual keys"
   ]
  },
  {
   "cell_type": "code",
   "execution_count": 48,
   "id": "93f7ceea",
   "metadata": {},
   "outputs": [],
   "source": [
    "# Can a dictionary itself be a value? Yes. Try this.\n",
    "# create a dict variable with keys 0 and 1 and values as PBS and ABC\n",
    "# Display each value by using individual keys"
   ]
  },
  {
   "cell_type": "code",
   "execution_count": 104,
   "id": "6b34fa68",
   "metadata": {},
   "outputs": [],
   "source": [
    "# Create a dictionary with names of subjects and marks\n",
    "# display the subjects"
   ]
  },
  {
   "cell_type": "code",
   "execution_count": 105,
   "id": "3cb93241",
   "metadata": {},
   "outputs": [],
   "source": [
    "# display the subjects and marks pair"
   ]
  },
  {
   "cell_type": "code",
   "execution_count": 106,
   "id": "e3a9e7b4",
   "metadata": {},
   "outputs": [],
   "source": [
    "# display just the marks"
   ]
  },
  {
   "cell_type": "code",
   "execution_count": 107,
   "id": "99ae890e",
   "metadata": {},
   "outputs": [],
   "source": [
    "# create a dict for three students using roll numbers 1 to 3 as keys "
   ]
  },
  {
   "cell_type": "code",
   "execution_count": 109,
   "id": "9c038da2",
   "metadata": {},
   "outputs": [],
   "source": [
    "# nested dict\n",
    "# to this students dict, add a key 'scores' which has a dict as value\n",
    "# for each student, the 'scores' key has their marks in five subjects as values\n",
    "# try looping through each student, access their marks\n",
    "# you are the IT dept of the university. Ask a few questions like the VC would and try to answer those questions."
   ]
  },
  {
   "cell_type": "code",
   "execution_count": 110,
   "id": "d2960f00",
   "metadata": {},
   "outputs": [],
   "source": [
    "# there are more dictionary methods\n",
    "# https://www.w3schools.com/python/python_dictionaries_methods.asp"
   ]
  },
  {
   "cell_type": "code",
   "execution_count": null,
   "id": "aa5886b8",
   "metadata": {},
   "outputs": [],
   "source": [
    "# explore"
   ]
  },
  {
   "cell_type": "code",
   "execution_count": 162,
   "id": "e4cfc4db",
   "metadata": {},
   "outputs": [],
   "source": [
    "# duplicate keys in dictionary\n",
    "d = dict([('A',1),('A',2),('A',-1)])"
   ]
  },
  {
   "cell_type": "code",
   "execution_count": 163,
   "id": "aa74f91f",
   "metadata": {},
   "outputs": [
    {
     "data": {
      "text/plain": [
       "{'A': -1}"
      ]
     },
     "execution_count": 163,
     "metadata": {},
     "output_type": "execute_result"
    }
   ],
   "source": [
    "d"
   ]
  },
  {
   "cell_type": "code",
   "execution_count": 164,
   "id": "ca13f41b",
   "metadata": {},
   "outputs": [],
   "source": [
    "# update value for a key\n",
    "dict = dict([(1,'Q'),(2,\"A\")])\n"
   ]
  },
  {
   "cell_type": "code",
   "execution_count": 165,
   "id": "208dfae2",
   "metadata": {},
   "outputs": [
    {
     "data": {
      "text/plain": [
       "{1: 'Q', 2: 'A'}"
      ]
     },
     "execution_count": 165,
     "metadata": {},
     "output_type": "execute_result"
    }
   ],
   "source": [
    "dict"
   ]
  },
  {
   "cell_type": "code",
   "execution_count": 168,
   "id": "8195dbe8",
   "metadata": {},
   "outputs": [],
   "source": [
    "dict.update({1:'q'})"
   ]
  },
  {
   "cell_type": "code",
   "execution_count": 170,
   "id": "211aed1c",
   "metadata": {},
   "outputs": [
    {
     "data": {
      "text/plain": [
       "{1: 'q', 2: 'A'}"
      ]
     },
     "execution_count": 170,
     "metadata": {},
     "output_type": "execute_result"
    }
   ],
   "source": [
    "dict"
   ]
  },
  {
   "cell_type": "code",
   "execution_count": 180,
   "id": "c0e0bba7",
   "metadata": {},
   "outputs": [
    {
     "data": {
      "text/plain": [
       "0"
      ]
     },
     "execution_count": 180,
     "metadata": {},
     "output_type": "execute_result"
    }
   ],
   "source": [
    "list(dict.values()).index('q')"
   ]
  },
  {
   "cell_type": "code",
   "execution_count": null,
   "id": "3f9da308",
   "metadata": {},
   "outputs": [],
   "source": []
  }
 ],
 "metadata": {
  "kernelspec": {
   "display_name": "Python 3 (ipykernel)",
   "language": "python",
   "name": "python3"
  },
  "language_info": {
   "codemirror_mode": {
    "name": "ipython",
    "version": 3
   },
   "file_extension": ".py",
   "mimetype": "text/x-python",
   "name": "python",
   "nbconvert_exporter": "python",
   "pygments_lexer": "ipython3",
   "version": "3.8.18"
  }
 },
 "nbformat": 4,
 "nbformat_minor": 5
}
